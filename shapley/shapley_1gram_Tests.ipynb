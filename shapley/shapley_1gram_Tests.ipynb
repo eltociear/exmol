{
 "cells": [
  {
   "cell_type": "code",
   "execution_count": 1,
   "metadata": {},
   "outputs": [],
   "source": [
    "import pandas as pd\n",
    "import matplotlib.pyplot as plt\n",
    "import seaborn as sns\n",
    "import matplotlib as mpl\n",
    "import numpy as np\n",
    "import os\n",
    "import selfies as sf\n",
    "import exmol\n",
    "import itertools\n",
    "soldata = pd.read_csv('https://github.com/whitead/dmol-book/raw/master/data/curated-solubility-dataset.csv')\n",
    "features_start_at = list(soldata.columns).index('MolWt')\n",
    "np.random.seed(0)"
   ]
  },
  {
   "cell_type": "code",
   "execution_count": 2,
   "metadata": {},
   "outputs": [
    {
     "data": {
      "text/html": [
       "<div>\n",
       "<style scoped>\n",
       "    .dataframe tbody tr th:only-of-type {\n",
       "        vertical-align: middle;\n",
       "    }\n",
       "\n",
       "    .dataframe tbody tr th {\n",
       "        vertical-align: top;\n",
       "    }\n",
       "\n",
       "    .dataframe thead th {\n",
       "        text-align: right;\n",
       "    }\n",
       "</style>\n",
       "<table border=\"1\" class=\"dataframe\">\n",
       "  <thead>\n",
       "    <tr style=\"text-align: right;\">\n",
       "      <th></th>\n",
       "      <th>ID</th>\n",
       "      <th>Name</th>\n",
       "      <th>InChI</th>\n",
       "      <th>InChIKey</th>\n",
       "      <th>SMILES</th>\n",
       "      <th>Solubility</th>\n",
       "      <th>SD</th>\n",
       "      <th>Ocurrences</th>\n",
       "      <th>Group</th>\n",
       "      <th>MolWt</th>\n",
       "      <th>...</th>\n",
       "      <th>NumRotatableBonds</th>\n",
       "      <th>NumValenceElectrons</th>\n",
       "      <th>NumAromaticRings</th>\n",
       "      <th>NumSaturatedRings</th>\n",
       "      <th>NumAliphaticRings</th>\n",
       "      <th>RingCount</th>\n",
       "      <th>TPSA</th>\n",
       "      <th>LabuteASA</th>\n",
       "      <th>BalabanJ</th>\n",
       "      <th>BertzCT</th>\n",
       "    </tr>\n",
       "  </thead>\n",
       "  <tbody>\n",
       "    <tr>\n",
       "      <th>0</th>\n",
       "      <td>B-4206</td>\n",
       "      <td>diuron</td>\n",
       "      <td>InChI=1S/C9H10Cl2N2O/c1-13(2)9(14)12-6-3-4-7(1...</td>\n",
       "      <td>XMTQQYYKAHVGBJ-UHFFFAOYSA-N</td>\n",
       "      <td>CN(C)C(=O)Nc1ccc(Cl)c(Cl)c1</td>\n",
       "      <td>-3.744300</td>\n",
       "      <td>1.227164</td>\n",
       "      <td>5</td>\n",
       "      <td>G4</td>\n",
       "      <td>233.098</td>\n",
       "      <td>...</td>\n",
       "      <td>1.0</td>\n",
       "      <td>76.0</td>\n",
       "      <td>1.0</td>\n",
       "      <td>0.0</td>\n",
       "      <td>0.0</td>\n",
       "      <td>1.0</td>\n",
       "      <td>32.34</td>\n",
       "      <td>92.603980</td>\n",
       "      <td>2.781208</td>\n",
       "      <td>352.665233</td>\n",
       "    </tr>\n",
       "    <tr>\n",
       "      <th>1</th>\n",
       "      <td>F-988</td>\n",
       "      <td>7-(3-amino-3-methylazetidin-1-yl)-8-chloro-1-c...</td>\n",
       "      <td>InChI=1S/C17H17ClFN3O3/c1-17(20)6-21(7-17)14-1...</td>\n",
       "      <td>DUNZFXZSFJLIKR-UHFFFAOYSA-N</td>\n",
       "      <td>CC1(N)CN(C2=C(Cl)C3=C(C=C2F)C(=O)C(C(=O)O)=CN3...</td>\n",
       "      <td>-5.330000</td>\n",
       "      <td>0.000000</td>\n",
       "      <td>1</td>\n",
       "      <td>G1</td>\n",
       "      <td>365.792</td>\n",
       "      <td>...</td>\n",
       "      <td>3.0</td>\n",
       "      <td>132.0</td>\n",
       "      <td>2.0</td>\n",
       "      <td>2.0</td>\n",
       "      <td>2.0</td>\n",
       "      <td>4.0</td>\n",
       "      <td>88.56</td>\n",
       "      <td>147.136366</td>\n",
       "      <td>2.001398</td>\n",
       "      <td>973.487509</td>\n",
       "    </tr>\n",
       "    <tr>\n",
       "      <th>2</th>\n",
       "      <td>C-1996</td>\n",
       "      <td>4-acetoxybiphenyl;  4-biphenylyl  acetate</td>\n",
       "      <td>InChI=1S/C14H12O2/c1-11(15)16-14-9-7-13(8-10-1...</td>\n",
       "      <td>MISFQCBPASYYGV-UHFFFAOYSA-N</td>\n",
       "      <td>CC(=O)OC1=CC=C(C=C1)C2=CC=CC=C2</td>\n",
       "      <td>-4.400000</td>\n",
       "      <td>0.000000</td>\n",
       "      <td>1</td>\n",
       "      <td>G1</td>\n",
       "      <td>212.248</td>\n",
       "      <td>...</td>\n",
       "      <td>2.0</td>\n",
       "      <td>80.0</td>\n",
       "      <td>2.0</td>\n",
       "      <td>0.0</td>\n",
       "      <td>0.0</td>\n",
       "      <td>2.0</td>\n",
       "      <td>26.30</td>\n",
       "      <td>94.493449</td>\n",
       "      <td>2.228677</td>\n",
       "      <td>471.848345</td>\n",
       "    </tr>\n",
       "    <tr>\n",
       "      <th>3</th>\n",
       "      <td>A-3055</td>\n",
       "      <td>methane dimolybdenum</td>\n",
       "      <td>InChI=1S/CH4.2Mo/h1H4;;</td>\n",
       "      <td>JAGQSESDQXCFCH-UHFFFAOYSA-N</td>\n",
       "      <td>C.[Mo].[Mo]</td>\n",
       "      <td>-3.420275</td>\n",
       "      <td>0.409223</td>\n",
       "      <td>2</td>\n",
       "      <td>G3</td>\n",
       "      <td>207.923</td>\n",
       "      <td>...</td>\n",
       "      <td>0.0</td>\n",
       "      <td>20.0</td>\n",
       "      <td>0.0</td>\n",
       "      <td>0.0</td>\n",
       "      <td>0.0</td>\n",
       "      <td>0.0</td>\n",
       "      <td>0.00</td>\n",
       "      <td>49.515427</td>\n",
       "      <td>-0.000000</td>\n",
       "      <td>2.754888</td>\n",
       "    </tr>\n",
       "    <tr>\n",
       "      <th>4</th>\n",
       "      <td>A-2575</td>\n",
       "      <td>ethyl 4-[[(methylphenylamino)methylene]amino]b...</td>\n",
       "      <td>InChI=1S/C17H18N2O2/c1-3-21-17(20)14-9-11-15(1...</td>\n",
       "      <td>GNGYPJUKIKDJQT-UHFFFAOYSA-N</td>\n",
       "      <td>CCOC(=O)c1ccc(cc1)N=CN(C)c2ccccc2</td>\n",
       "      <td>-5.450777</td>\n",
       "      <td>0.000000</td>\n",
       "      <td>1</td>\n",
       "      <td>G1</td>\n",
       "      <td>282.343</td>\n",
       "      <td>...</td>\n",
       "      <td>5.0</td>\n",
       "      <td>108.0</td>\n",
       "      <td>2.0</td>\n",
       "      <td>0.0</td>\n",
       "      <td>0.0</td>\n",
       "      <td>2.0</td>\n",
       "      <td>41.90</td>\n",
       "      <td>124.243431</td>\n",
       "      <td>2.028889</td>\n",
       "      <td>606.447052</td>\n",
       "    </tr>\n",
       "  </tbody>\n",
       "</table>\n",
       "<p>5 rows × 26 columns</p>\n",
       "</div>"
      ],
      "text/plain": [
       "       ID                                               Name  \\\n",
       "0  B-4206                                             diuron   \n",
       "1   F-988  7-(3-amino-3-methylazetidin-1-yl)-8-chloro-1-c...   \n",
       "2  C-1996          4-acetoxybiphenyl;  4-biphenylyl  acetate   \n",
       "3  A-3055                               methane dimolybdenum   \n",
       "4  A-2575  ethyl 4-[[(methylphenylamino)methylene]amino]b...   \n",
       "\n",
       "                                               InChI  \\\n",
       "0  InChI=1S/C9H10Cl2N2O/c1-13(2)9(14)12-6-3-4-7(1...   \n",
       "1  InChI=1S/C17H17ClFN3O3/c1-17(20)6-21(7-17)14-1...   \n",
       "2  InChI=1S/C14H12O2/c1-11(15)16-14-9-7-13(8-10-1...   \n",
       "3                            InChI=1S/CH4.2Mo/h1H4;;   \n",
       "4  InChI=1S/C17H18N2O2/c1-3-21-17(20)14-9-11-15(1...   \n",
       "\n",
       "                      InChIKey  \\\n",
       "0  XMTQQYYKAHVGBJ-UHFFFAOYSA-N   \n",
       "1  DUNZFXZSFJLIKR-UHFFFAOYSA-N   \n",
       "2  MISFQCBPASYYGV-UHFFFAOYSA-N   \n",
       "3  JAGQSESDQXCFCH-UHFFFAOYSA-N   \n",
       "4  GNGYPJUKIKDJQT-UHFFFAOYSA-N   \n",
       "\n",
       "                                              SMILES  Solubility        SD  \\\n",
       "0                        CN(C)C(=O)Nc1ccc(Cl)c(Cl)c1   -3.744300  1.227164   \n",
       "1  CC1(N)CN(C2=C(Cl)C3=C(C=C2F)C(=O)C(C(=O)O)=CN3...   -5.330000  0.000000   \n",
       "2                    CC(=O)OC1=CC=C(C=C1)C2=CC=CC=C2   -4.400000  0.000000   \n",
       "3                                        C.[Mo].[Mo]   -3.420275  0.409223   \n",
       "4                  CCOC(=O)c1ccc(cc1)N=CN(C)c2ccccc2   -5.450777  0.000000   \n",
       "\n",
       "   Ocurrences Group    MolWt  ...  NumRotatableBonds  NumValenceElectrons  \\\n",
       "0           5    G4  233.098  ...                1.0                 76.0   \n",
       "1           1    G1  365.792  ...                3.0                132.0   \n",
       "2           1    G1  212.248  ...                2.0                 80.0   \n",
       "3           2    G3  207.923  ...                0.0                 20.0   \n",
       "4           1    G1  282.343  ...                5.0                108.0   \n",
       "\n",
       "   NumAromaticRings  NumSaturatedRings  NumAliphaticRings  RingCount   TPSA  \\\n",
       "0               1.0                0.0                0.0        1.0  32.34   \n",
       "1               2.0                2.0                2.0        4.0  88.56   \n",
       "2               2.0                0.0                0.0        2.0  26.30   \n",
       "3               0.0                0.0                0.0        0.0   0.00   \n",
       "4               2.0                0.0                0.0        2.0  41.90   \n",
       "\n",
       "    LabuteASA  BalabanJ     BertzCT  \n",
       "0   92.603980  2.781208  352.665233  \n",
       "1  147.136366  2.001398  973.487509  \n",
       "2   94.493449  2.228677  471.848345  \n",
       "3   49.515427 -0.000000    2.754888  \n",
       "4  124.243431  2.028889  606.447052  \n",
       "\n",
       "[5 rows x 26 columns]"
      ]
     },
     "execution_count": 2,
     "metadata": {},
     "output_type": "execute_result"
    }
   ],
   "source": [
    "# scramble them\n",
    "# Reduced for CI!\n",
    "soldata = soldata.sample(frac=0.15, random_state=0).reset_index(drop=True)\n",
    "soldata.head()"
   ]
  },
  {
   "cell_type": "code",
   "execution_count": 3,
   "metadata": {},
   "outputs": [],
   "source": [
    "selfies_list = [sf.encoder(exmol.sanitize_smiles(s)[1]) for s in soldata.SMILES]"
   ]
  },
  {
   "cell_type": "code",
   "execution_count": 4,
   "metadata": {},
   "outputs": [
    {
     "data": {
      "text/plain": [
       "1497"
      ]
     },
     "execution_count": 4,
     "metadata": {},
     "output_type": "execute_result"
    }
   ],
   "source": [
    "len(selfies_list)"
   ]
  },
  {
   "cell_type": "code",
   "execution_count": 5,
   "metadata": {},
   "outputs": [],
   "source": [
    "#selfies_list = [''.join(list(sf.split_selfies(s))[:5]) for s in selfies_list]"
   ]
  },
  {
   "cell_type": "code",
   "execution_count": 6,
   "metadata": {},
   "outputs": [
    {
     "name": "stdout",
     "output_type": "stream",
     "text": [
      "{'[Zrexpl]': 1, '[Cd+2expl]': 1, '[Seexpl]': 1, '[Sr+2expl]': 1, '[=Seexpl]': 1, '[Reexpl]': 1, '[Znexpl]': 1, '[=O+expl]': 1, '[Vexpl]': 1, '[SiHexpl]': 1, '[Mn+2expl]': 1, '[P+expl]': 1, '[I-expl]': 1, '[Mn+3expl]': 1, '[=Crexpl]': 1, '[=Feexpl]': 1, '[Mnexpl]': 1, '[=Znexpl]': 1, '[Laexpl]': 1, '[N-expl]': 1, '[Cu+2expl]': 1, '[=Cdexpl]': 1, '[Zr+2expl]': 1, '[Cr+3expl]': 1, '[=Coexpl]': 1, '[Hgexpl]': 1, '[Hg+expl]': 1, '[Y+3expl]': 1, '[=I]': 1, '[=Moexpl]': 1, '[Kexpl]': 1, '[Liexpl]': 1, '[Tiexpl]': 1, '[=Ceexpl]': 1, '[B-expl]': 1, '[Bexpl]': 1, '[=Caexpl]': 1, '[NH3+expl]': 1, '[Alexpl]': 1, '[Asexpl]': 1, '[NH2+expl]': 1, '[=Siexpl]': 1, '[MgH2expl]': 1, '[Hf+4expl]': 1, '[Rh+3expl]': 1, '[PHexpl]': 1, '[Ni+2expl]': 1, '[Auexpl]': 1, '[Cu+expl]': 1, '[Fe+2expl]': 1, '[C+expl]': 2, '[Zn+2expl]': 2, '[Lu+3expl]': 2, '[Mg+2expl]': 2, '[Cuexpl]': 2, '[=Pbexpl]': 2, '[Bi+3expl]': 2, '[=Mnexpl]': 2, '[H-expl]': 2, '[Clexpl]': 2, '[Sbexpl]': 2, '[Al+3expl]': 2, '[Expl=Ring2]': 2, '[OH-expl]': 2, '[La+3expl]': 2, '[Moexpl]': 3, '[Ba+2expl]': 3, '[Feexpl]': 3, '[B]': 4, '[S-expl]': 4, '[Snexpl]': 4, '[NH+expl]': 4, '[Crexpl]': 4, '[F-expl]': 4, '[Pb+2expl]': 4, '[Naexpl]': 5, '[Fe+3expl]': 5, '[Co+2expl]': 6, '[C-expl]': 6, '[Br-expl]': 7, '[K+expl]': 7, '[Li+expl]': 7, '[Ca+2expl]': 9, '[NH4+expl]': 9, '[H+expl]': 10, '[Pbexpl]': 10, '[O-2expl]': 12, '[=P]': 14, '[Siexpl]': 15, '[I]': 22, '[=N+expl]': 24, '[Cl-expl]': 24, '[#N]': 30, '[Expl=Ring1]': 53, '[=S]': 72, '[Br]': 79, '[NHexpl]': 89, '[Na+expl]': 103, '[N+expl]': 114, '[#C]': 131, '[P]': 145, '[F]': 201, '[Branch2_3]': 274, '[O-expl]': 326, '[Branch1_3]': 333, '[Branch2_2]': 386, '[S]': 424, '[=N]': 468, '[Branch2_1]': 504, '[Cl]': 592, '[Ring2]': 621, '[N]': 1436, '[=O]': 1674, '[O]': 2232, '[Branch1_2]': 2376, '[Ring1]': 2655, '[Branch1_1]': 3031, '[=C]': 4588, '[C]': 16805}\n",
      "\n",
      "['[Zrexpl]', '[Cd+2expl]', '[Seexpl]', '[Sr+2expl]', '[=Seexpl]', '[Reexpl]', '[Znexpl]', '[=O+expl]', '[Vexpl]', '[SiHexpl]', '[Mn+2expl]', '[P+expl]', '[I-expl]', '[Mn+3expl]', '[=Crexpl]', '[=Feexpl]', '[Mnexpl]', '[=Znexpl]', '[Laexpl]', '[N-expl]', '[Cu+2expl]', '[=Cdexpl]', '[Zr+2expl]', '[Cr+3expl]', '[=Coexpl]', '[Hgexpl]', '[Hg+expl]', '[Y+3expl]', '[=I]', '[=Moexpl]', '[Kexpl]', '[Liexpl]', '[Tiexpl]', '[=Ceexpl]', '[B-expl]', '[Bexpl]', '[=Caexpl]', '[NH3+expl]', '[Alexpl]', '[Asexpl]', '[NH2+expl]', '[=Siexpl]', '[MgH2expl]', '[Hf+4expl]', '[Rh+3expl]', '[PHexpl]', '[Ni+2expl]', '[Auexpl]', '[Cu+expl]', '[Fe+2expl]', '[C+expl]', '[Zn+2expl]', '[Lu+3expl]', '[Mg+2expl]', '[Cuexpl]', '[=Pbexpl]', '[Bi+3expl]', '[=Mnexpl]', '[H-expl]', '[Clexpl]', '[Sbexpl]', '[Al+3expl]', '[Expl=Ring2]', '[OH-expl]', '[La+3expl]', '[Moexpl]', '[Ba+2expl]', '[Feexpl]', '[B]', '[S-expl]', '[Snexpl]', '[NH+expl]', '[Crexpl]', '[F-expl]', '[Pb+2expl]', '[Naexpl]', '[Fe+3expl]', '[Co+2expl]', '[C-expl]', '[Br-expl]', '[K+expl]', '[Li+expl]', '[Ca+2expl]', '[NH4+expl]', '[H+expl]', '[Pbexpl]', '[O-2expl]', '[=P]', '[Siexpl]', '[I]', '[=N+expl]', '[Cl-expl]', '[#N]', '[Expl=Ring1]', '[=S]', '[Br]', '[NHexpl]', '[Na+expl]', '[N+expl]', '[#C]', '[P]', '[F]', '[Branch2_3]', '[O-expl]', '[Branch1_3]', '[Branch2_2]', '[S]', '[=N]', '[Branch2_1]', '[Cl]', '[Ring2]', '[N]', '[=O]', '[O]', '[Branch1_2]', '[Ring1]', '[Branch1_1]', '[=C]', '[C]']\n",
      "\n",
      "{'[Zrexpl]': 0, '[Cd+2expl]': 1, '[Seexpl]': 2, '[Sr+2expl]': 3, '[=Seexpl]': 4, '[Reexpl]': 5, '[Znexpl]': 6, '[=O+expl]': 7, '[Vexpl]': 8, '[SiHexpl]': 9, '[Mn+2expl]': 10, '[P+expl]': 11, '[I-expl]': 12, '[Mn+3expl]': 13, '[=Crexpl]': 14, '[=Feexpl]': 15, '[Mnexpl]': 16, '[=Znexpl]': 17, '[Laexpl]': 18, '[N-expl]': 19, '[Cu+2expl]': 20, '[=Cdexpl]': 21, '[Zr+2expl]': 22, '[Cr+3expl]': 23, '[=Coexpl]': 24, '[Hgexpl]': 25, '[Hg+expl]': 26, '[Y+3expl]': 27, '[=I]': 28, '[=Moexpl]': 29, '[Kexpl]': 30, '[Liexpl]': 31, '[Tiexpl]': 32, '[=Ceexpl]': 33, '[B-expl]': 34, '[Bexpl]': 35, '[=Caexpl]': 36, '[NH3+expl]': 37, '[Alexpl]': 38, '[Asexpl]': 39, '[NH2+expl]': 40, '[=Siexpl]': 41, '[MgH2expl]': 42, '[Hf+4expl]': 43, '[Rh+3expl]': 44, '[PHexpl]': 45, '[Ni+2expl]': 46, '[Auexpl]': 47, '[Cu+expl]': 48, '[Fe+2expl]': 49, '[C+expl]': 50, '[Zn+2expl]': 51, '[Lu+3expl]': 52, '[Mg+2expl]': 53, '[Cuexpl]': 54, '[=Pbexpl]': 55, '[Bi+3expl]': 56, '[=Mnexpl]': 57, '[H-expl]': 58, '[Clexpl]': 59, '[Sbexpl]': 60, '[Al+3expl]': 61, '[Expl=Ring2]': 62, '[OH-expl]': 63, '[La+3expl]': 64, '[Moexpl]': 65, '[Ba+2expl]': 66, '[Feexpl]': 67, '[B]': 68, '[S-expl]': 69, '[Snexpl]': 70, '[NH+expl]': 71, '[Crexpl]': 72, '[F-expl]': 73, '[Pb+2expl]': 74, '[Naexpl]': 75, '[Fe+3expl]': 76, '[Co+2expl]': 77, '[C-expl]': 78, '[Br-expl]': 79, '[K+expl]': 80, '[Li+expl]': 81, '[Ca+2expl]': 82, '[NH4+expl]': 83, '[H+expl]': 84, '[Pbexpl]': 85, '[O-2expl]': 86, '[=P]': 87, '[Siexpl]': 88, '[I]': 89, '[=N+expl]': 90, '[Cl-expl]': 91, '[#N]': 92, '[Expl=Ring1]': 93, '[=S]': 94, '[Br]': 95, '[NHexpl]': 96, '[Na+expl]': 97, '[N+expl]': 98, '[#C]': 99, '[P]': 100, '[F]': 101, '[Branch2_3]': 102, '[O-expl]': 103, '[Branch1_3]': 104, '[Branch2_2]': 105, '[S]': 106, '[=N]': 107, '[Branch2_1]': 108, '[Cl]': 109, '[Ring2]': 110, '[N]': 111, '[=O]': 112, '[O]': 113, '[Branch1_2]': 114, '[Ring1]': 115, '[Branch1_1]': 116, '[=C]': 117, '[C]': 118}\n",
      "\n"
     ]
    }
   ],
   "source": [
    "symbol_counts = {}\n",
    "        \n",
    "for s in selfies_list:\n",
    "    #print(s)\n",
    "    s_list = list(sf.split_selfies(s))    \n",
    "    for token in s_list:\n",
    "        if '.' in token:\n",
    "            continue #?\n",
    "        if token in symbol_counts:\n",
    "            symbol_counts[token] += 1\n",
    "        else:\n",
    "            symbol_counts[token] = 1\n",
    "\n",
    "symbol_counts = dict(sorted(symbol_counts.items(), key=lambda i: i[1]))\n",
    "print(symbol_counts)\n",
    "print()\n",
    "\n",
    "vocab = list(symbol_counts.keys())\n",
    "print(vocab)\n",
    "print()\n",
    "vocab_stoi = {o:i for o,i in zip(vocab, range(len(vocab)))}\n",
    "print(vocab_stoi)\n",
    "print()\n"
   ]
  },
  {
   "cell_type": "code",
   "execution_count": 7,
   "metadata": {},
   "outputs": [],
   "source": [
    "#Using vocab_stoi ordered by frequency for convenience\n",
    "\n",
    "#vocab = list(sf.get_alphabet_from_selfies([s for s in selfies_list if s is not None]))\n",
    "#vocab_stoi = {o:i for o,i in zip(vocab, range(len(vocab)))}\n",
    "#print('Vocab size', len(vocab))"
   ]
  },
  {
   "cell_type": "code",
   "execution_count": 8,
   "metadata": {},
   "outputs": [
    {
     "name": "stdout",
     "output_type": "stream",
     "text": [
      "selfies: [C][N][Branch1_1][C][C][C][Branch1_2][C][=O][N][C][=C][C][=C][Branch1_1][C][Cl][C][Branch1_1][C][Cl][=C][Ring1][Branch2_1]\n",
      "selfies2ints: [118, 111, 116, 118, 118, 118, 114, 118, 112, 111, 118, 117, 118, 117, 116, 118, 109, 118, 116, 118, 109, 117, 115, 108]\n",
      "ints2selfes: [C][N][Branch1_1][C][C][C][Branch1_2][C][=O][N][C][=C][C][=C][Branch1_1][C][Cl][C][Branch1_1][C][Cl][=C][Ring1][Branch2_1]\n"
     ]
    }
   ],
   "source": [
    "def selfies2ints(s):\n",
    "    result = []\n",
    "    for token in sf.split_selfies(s):\n",
    "        if token == '.':\n",
    "            continue #?\n",
    "        if token in vocab_stoi:\n",
    "            result.append(vocab_stoi[token])\n",
    "        else:\n",
    "            result.append(np.nan)\n",
    "            #print('Warning')\n",
    "    return result\n",
    "def ints2selfies(v):\n",
    "    return ''.join([vocab[i] for i in v])\n",
    "\n",
    "# test them out\n",
    "s = selfies_list[0]\n",
    "print('selfies:', s)\n",
    "v = selfies2ints(s)\n",
    "print('selfies2ints:', v)\n",
    "so = ints2selfies(v)\n",
    "print('ints2selfes:', so)\n",
    "assert so == s"
   ]
  },
  {
   "cell_type": "code",
   "execution_count": 9,
   "metadata": {},
   "outputs": [],
   "source": [
    "ints_list = [selfies2ints(s) for s in selfies_list]"
   ]
  },
  {
   "cell_type": "code",
   "execution_count": 10,
   "metadata": {},
   "outputs": [
    {
     "data": {
      "text/plain": [
       "200"
      ]
     },
     "execution_count": 10,
     "metadata": {},
     "output_type": "execute_result"
    }
   ],
   "source": [
    "max_len = max([len(i) for i in ints_list])\n",
    "max_len"
   ]
  },
  {
   "cell_type": "markdown",
   "metadata": {},
   "source": [
    "## Shapley for 1-gram model"
   ]
  },
  {
   "cell_type": "code",
   "execution_count": 11,
   "metadata": {},
   "outputs": [
    {
     "name": "stdout",
     "output_type": "stream",
     "text": [
      "[0.00840336 0.00840336 0.00840336 0.00840336 0.00840336 0.00840336\n",
      " 0.00840336 0.00840336 0.00840336 0.00840336 0.00840336 0.00840336\n",
      " 0.00840336 0.00840336 0.00840336 0.00840336 0.00840336 0.00840336\n",
      " 0.00840336 0.00840336 0.00840336 0.00840336 0.00840336 0.00840336\n",
      " 0.00840336 0.00840336 0.00840336 0.00840336 0.00840336 0.00840336\n",
      " 0.00840336 0.00840336 0.00840336 0.00840336 0.00840336 0.00840336\n",
      " 0.00840336 0.00840336 0.00840336 0.00840336 0.00840336 0.00840336\n",
      " 0.00840336 0.00840336 0.00840336 0.00840336 0.00840336 0.00840336\n",
      " 0.00840336 0.00840336 0.00840336 0.00840336 0.00840336 0.00840336\n",
      " 0.00840336 0.00840336 0.00840336 0.00840336 0.00840336 0.00840336\n",
      " 0.00840336 0.00840336 0.00840336 0.00840336 0.00840336 0.00840336\n",
      " 0.00840336 0.00840336 0.00840336 0.00840336 0.00840336 0.00840336\n",
      " 0.00840336 0.00840336 0.00840336 0.00840336 0.00840336 0.00840336\n",
      " 0.00840336 0.00840336 0.00840336 0.00840336 0.00840336 0.00840336\n",
      " 0.00840336 0.00840336 0.00840336 0.00840336 0.00840336 0.00840336\n",
      " 0.00840336 0.00840336 0.00840336 0.00840336 0.00840336 0.00840336\n",
      " 0.00840336 0.00840336 0.00840336 0.00840336 0.00840336 0.00840336\n",
      " 0.00840336 0.00840336 0.00840336 0.00840336 0.00840336 0.00840336\n",
      " 0.00840336 0.00840336 0.00840336 0.00840336 0.00840336 0.00840336\n",
      " 0.00840336 0.00840336 0.00840336 0.00840336 0.00840336]\n",
      "119\n"
     ]
    }
   ],
   "source": [
    "uni_prob_vector = np.ones(len(vocab))/len(vocab)\n",
    "print(uni_prob_vector)\n",
    "print(len(uni_prob_vector))"
   ]
  },
  {
   "cell_type": "code",
   "execution_count": 12,
   "metadata": {},
   "outputs": [
    {
     "name": "stdout",
     "output_type": "stream",
     "text": [
      "[2.49681656e-05 2.49681656e-05 2.49681656e-05 2.49681656e-05\n",
      " 2.49681656e-05 2.49681656e-05 2.49681656e-05 2.49681656e-05\n",
      " 2.49681656e-05 2.49681656e-05 2.49681656e-05 2.49681656e-05\n",
      " 2.49681656e-05 2.49681656e-05 2.49681656e-05 2.49681656e-05\n",
      " 2.49681656e-05 2.49681656e-05 2.49681656e-05 2.49681656e-05\n",
      " 2.49681656e-05 2.49681656e-05 2.49681656e-05 2.49681656e-05\n",
      " 2.49681656e-05 2.49681656e-05 2.49681656e-05 2.49681656e-05\n",
      " 2.49681656e-05 2.49681656e-05 2.49681656e-05 2.49681656e-05\n",
      " 2.49681656e-05 2.49681656e-05 2.49681656e-05 2.49681656e-05\n",
      " 2.49681656e-05 2.49681656e-05 2.49681656e-05 2.49681656e-05\n",
      " 2.49681656e-05 2.49681656e-05 2.49681656e-05 2.49681656e-05\n",
      " 2.49681656e-05 2.49681656e-05 2.49681656e-05 2.49681656e-05\n",
      " 2.49681656e-05 2.49681656e-05 4.99363312e-05 4.99363312e-05\n",
      " 4.99363312e-05 4.99363312e-05 4.99363312e-05 4.99363312e-05\n",
      " 4.99363312e-05 4.99363312e-05 4.99363312e-05 4.99363312e-05\n",
      " 4.99363312e-05 4.99363312e-05 4.99363312e-05 4.99363312e-05\n",
      " 4.99363312e-05 7.49044968e-05 7.49044968e-05 7.49044968e-05\n",
      " 9.98726624e-05 9.98726624e-05 9.98726624e-05 9.98726624e-05\n",
      " 9.98726624e-05 9.98726624e-05 9.98726624e-05 1.24840828e-04\n",
      " 1.24840828e-04 1.49808994e-04 1.49808994e-04 1.74777159e-04\n",
      " 1.74777159e-04 1.74777159e-04 2.24713490e-04 2.24713490e-04\n",
      " 2.49681656e-04 2.49681656e-04 2.99617987e-04 3.49554318e-04\n",
      " 3.74522484e-04 5.49299643e-04 5.99235974e-04 5.99235974e-04\n",
      " 7.49044968e-04 1.32331278e-03 1.79770792e-03 1.97248508e-03\n",
      " 2.22216674e-03 2.57172106e-03 2.84637088e-03 3.27082969e-03\n",
      " 3.62038401e-03 5.01860128e-03 6.84127737e-03 8.13962198e-03\n",
      " 8.31439914e-03 9.63771192e-03 1.05865022e-02 1.16851015e-02\n",
      " 1.25839555e-02 1.47811540e-02 1.55052308e-02 3.58542858e-02\n",
      " 4.17967092e-02 5.57289456e-02 5.93243614e-02 6.62904796e-02\n",
      " 7.56785099e-02 1.14553944e-01 4.19590023e-01]\n",
      "119\n"
     ]
    }
   ],
   "source": [
    "freq_prob_vector = list(symbol_counts.values())\n",
    "freq_prob_vector = freq_prob_vector/np.sum(freq_prob_vector)\n",
    "print(freq_prob_vector)\n",
    "print(len(freq_prob_vector))"
   ]
  },
  {
   "cell_type": "code",
   "execution_count": 13,
   "metadata": {},
   "outputs": [
    {
     "name": "stdout",
     "output_type": "stream",
     "text": [
      "[N][#C][C][C][O]\n",
      "5\n",
      "[111, 99, 118, 118, 113]\n",
      "\n"
     ]
    }
   ],
   "source": [
    "instance = selfies_list[5]\n",
    "instance_ints = selfies2ints(instance)\n",
    "instance_len = len(instance_ints)\n",
    "print(instance)\n",
    "print(instance_len)\n",
    "print(instance_ints)\n",
    "print()"
   ]
  },
  {
   "cell_type": "code",
   "execution_count": 14,
   "metadata": {},
   "outputs": [
    {
     "name": "stdout",
     "output_type": "stream",
     "text": [
      "[83 53  0  0  6]\n",
      "[113 115 116 102 118]\n"
     ]
    }
   ],
   "source": [
    "np.random.seed(100)\n",
    "print(np.argmax(np.random.multinomial(1, uni_prob_vector, size=instance_len),axis=-1))\n",
    "np.random.seed(100)\n",
    "print(np.argmax(np.random.multinomial(1, freq_prob_vector, size=instance_len),axis=-1))"
   ]
  },
  {
   "cell_type": "code",
   "execution_count": 15,
   "metadata": {},
   "outputs": [
    {
     "name": "stdout",
     "output_type": "stream",
     "text": [
      "[[ 52  96  60  75 108]\n",
      " [ 25  29  26  83  32]\n",
      " [ 23 107  38  98  85]\n",
      " [ 22  53  75  20  94]\n",
      " [  1  62  12  20  77]]\n",
      "[[116 118 114 118 118]\n",
      " [118 118 117 117 116]\n",
      " [110 111 118 110 117]\n",
      " [113  98 118 114 117]\n",
      " [112 113 114  98  86]]\n"
     ]
    }
   ],
   "source": [
    "def get_samples(instance_ints, steps, prob_vector, seed = np.random.randint(1000)):\n",
    "    np.random.seed(seed)\n",
    "    instance_len = len(instance_ints)\n",
    "    samples = np.stack([np.argmax(np.random.multinomial(1, prob_vector, size=instance_len),axis=-1) for i in range(steps)])\n",
    "    return samples\n",
    "\n",
    "print(get_samples(instance_ints,5,uni_prob_vector, seed=0))\n",
    "print(get_samples(instance_ints,5,freq_prob_vector, seed=0))\n",
    "    "
   ]
  },
  {
   "cell_type": "code",
   "execution_count": 16,
   "metadata": {},
   "outputs": [],
   "source": [
    "uni_samples = get_samples(instance_ints, 2000, uni_prob_vector, seed=0)\n",
    "freq_samples = get_samples(instance_ints, 2000, freq_prob_vector, seed=0)"
   ]
  },
  {
   "cell_type": "code",
   "execution_count": 17,
   "metadata": {},
   "outputs": [],
   "source": [
    "def model_1gram(ints): # assuming input is an array of ints\n",
    "    out = np.sum(ints,axis=1) # sum of each row in ints\n",
    "    return out"
   ]
  },
  {
   "cell_type": "code",
   "execution_count": 18,
   "metadata": {},
   "outputs": [
    {
     "name": "stdout",
     "output_type": "stream",
     "text": [
      "295.0455\n"
     ]
    }
   ],
   "source": [
    "uni_pred = model_1gram(uni_samples)\n",
    "uni_expec_val = np.sum(uni_pred)/len(uni_pred)\n",
    "print(uni_expec_val)"
   ]
  },
  {
   "cell_type": "code",
   "execution_count": 19,
   "metadata": {},
   "outputs": [
    {
     "name": "stdout",
     "output_type": "stream",
     "text": [
      "572.596\n"
     ]
    }
   ],
   "source": [
    "freq_pred = model_1gram(freq_samples)\n",
    "freq_expec_val = np.sum(freq_pred)/len(freq_pred)\n",
    "print(freq_expec_val)"
   ]
  },
  {
   "cell_type": "code",
   "execution_count": 20,
   "metadata": {},
   "outputs": [],
   "source": [
    "def shapley(instance_ints, feat, samples, model, debug=False):\n",
    "    instance_len = len(instance_ints)\n",
    "    act_len = len([i for i in instance_ints if i!=0])\n",
    "    #print(act_len)\n",
    "    if feat >= instance_len:\n",
    "        print(\"Error: feat >= seq_len\")\n",
    "        return exit(1)\n",
    "    feat_int = instance_ints[feat]\n",
    "    if debug: print(\"feat_int: \",feat_int)\n",
    "\n",
    "    #uses all \n",
    "    seq_ref = np.stack([s for s in samples])\n",
    "    \n",
    "    if debug: \n",
    "        print(\"seq_ref\")\n",
    "        print(seq_ref)\n",
    "        print()\n",
    "    \n",
    "    seq_p = seq_ref.copy()\n",
    "    seq_m = seq_ref.copy()    \n",
    "    # set new_x[:] i to be x_i\n",
    "    seq_p[:,feat] = feat_int\n",
    "    if debug: \n",
    "        print(\"seq_p\")\n",
    "        print(seq_p)\n",
    "        print()\n",
    "        print(\"seq_m\")\n",
    "        print(seq_m)\n",
    "        print()\n",
    "    \n",
    "    val_p = model(seq_p)\n",
    "    val_m = model(seq_m)\n",
    "    if debug: \n",
    "        print(\"val_p\")\n",
    "        print(val_p)\n",
    "        print()\n",
    "        print(\"val_m\")\n",
    "        print(val_m)\n",
    "        print()\n",
    "        print(\"diff\")\n",
    "        print(val_p - val_m)\n",
    "        print()\n",
    "    \n",
    "    result = np.sum(val_p-val_m)/len(samples)\n",
    "    \n",
    "    return result"
   ]
  },
  {
   "cell_type": "code",
   "execution_count": 21,
   "metadata": {},
   "outputs": [
    {
     "name": "stdout",
     "output_type": "stream",
     "text": [
      "instance:  [N][#C][C][C][O]\n",
      "instance ints:  [111, 99, 118, 118, 113]\n",
      "instance len:  5\n",
      "\n",
      "40.039\n",
      "\n",
      "-15.586\n"
     ]
    }
   ],
   "source": [
    "instance = selfies_list[5]\n",
    "instance_ints = selfies2ints(instance)\n",
    "instance_len = len(instance_ints)\n",
    "\n",
    "feat = 1\n",
    "steps = 2000 # when using selifes_list/ints_list, make sure steps <= len(selfies_list)\n",
    "model = model_1gram\n",
    "\n",
    "print(\"instance: \",instance)\n",
    "print(\"instance ints: \",instance_ints)\n",
    "print(\"instance len: \",instance_len)\n",
    "print()\n",
    "\n",
    "uni_samples = get_samples(instance_ints, steps, uni_prob_vector, seed=0)\n",
    "freq_samples = get_samples(instance_ints, steps, freq_prob_vector, seed=0)\n",
    "\n",
    "print(shapley(instance_ints, feat, uni_samples, model))\n",
    "print()\n",
    "print(shapley(instance_ints, feat, freq_samples, model))"
   ]
  },
  {
   "cell_type": "code",
   "execution_count": 22,
   "metadata": {},
   "outputs": [
    {
     "name": "stdout",
     "output_type": "stream",
     "text": [
      "instance:  [N][#C][C][C][O]\n",
      "instance ints:  [111, 99, 118, 118, 113]\n",
      "instance len:  5\n",
      "\n",
      "shapley values uni:  [52.6565, 40.039, 59.3235, 58.8475, 53.088]\n",
      "uni Expec:  295.0455\n",
      "uni Sum:  559.0\n",
      "\n",
      "shapley values freq:  [-3.4395, -15.586, 3.6455, 3.478, -1.694]\n",
      "freq Expec:  572.596\n",
      "freq Sum:  559.0\n",
      "\n",
      "f(s):  559\n"
     ]
    }
   ],
   "source": [
    "instance = selfies_list[5]\n",
    "instance_ints = selfies2ints(instance)\n",
    "instance_len = len(instance_ints)\n",
    "\n",
    "feat = 1\n",
    "steps = 2000 # when using selifes_list/ints_list, make sure steps <= len(selfies_list)\n",
    "model = model_1gram\n",
    "\n",
    "print(\"instance: \",instance)\n",
    "print(\"instance ints: \",instance_ints)\n",
    "print(\"instance len: \",instance_len)\n",
    "print()\n",
    "\n",
    "uni_samples = get_samples(instance_ints, steps, uni_prob_vector, seed=0)\n",
    "freq_samples = get_samples(instance_ints, steps, freq_prob_vector, seed=0)\n",
    "\n",
    "uni_pred = model_1gram(uni_samples)\n",
    "uni_expec_val = np.sum(uni_pred)/len(uni_pred)\n",
    "\n",
    "freq_pred = model_1gram(freq_samples)\n",
    "freq_expec_val = np.sum(freq_pred)/len(freq_pred)\n",
    "\n",
    "uni_shap_val = [shapley(instance_ints, feat, uni_samples, model) for feat in range(instance_len)]\n",
    "freq_shap_val = [shapley(instance_ints, feat, freq_samples, model) for feat in range(instance_len)]\n",
    "print(\"shapley values uni: \", uni_shap_val)\n",
    "print(\"uni Expec: \", uni_expec_val)\n",
    "print(\"uni Sum: \", np.sum(uni_shap_val) + uni_expec_val)\n",
    "print()\n",
    "print(\"shapley values freq: \", freq_shap_val)\n",
    "print(\"freq Expec: \", freq_expec_val)\n",
    "print(\"freq Sum: \", np.sum(freq_shap_val) + freq_expec_val)\n",
    "print()\n",
    "label =  model_1gram([instance_ints])[0]\n",
    "print(\"f(s): \", label)\n"
   ]
  },
  {
   "cell_type": "code",
   "execution_count": 23,
   "metadata": {},
   "outputs": [],
   "source": [
    "# implementation from https://link.springer.com/content/pdf/10.1007/s10115-013-0679-x.pdf\n",
    "def shapley_sk(instance_ints, feat, samples, model, debug=False):\n",
    "    instance_len = len(instance_ints)\n",
    "    if feat >= instance_len:\n",
    "        print(\"Error: feat >= seq_len\")\n",
    "        return exit(1)\n",
    "    feat_int = instance_ints[feat]\n",
    "    if debug: print(\"feat_int: \",feat_int)\n",
    "        \n",
    "    seq_ref = np.stack([s for s in samples])\n",
    "    if debug: \n",
    "        print(\"seq_ref\")\n",
    "        print(seq_ref)\n",
    "        print()\n",
    "\n",
    "    # choice\n",
    "    choice_p = np.stack([np.random.randint(2, size=instance_len) for i in range(len(samples))])\n",
    "    choice_p[:,feat] = 1\n",
    "    if debug: \n",
    "        print(\"choice_p\")\n",
    "        print(choice_p)\n",
    "        print()\n",
    "    \n",
    "    choice_m = np.copy(choice_p)\n",
    "    choice_m[:,feat] = 0\n",
    "    if debug: \n",
    "        print(\"choice_m\")\n",
    "        print(choice_m)\n",
    "        print()\n",
    "    \n",
    "    # shuffled x's based on choice\n",
    "    \n",
    "    seq_p = (instance_ints * choice_p) + (seq_ref * (1-choice_p))\n",
    "    seq_m = (instance_ints * choice_m) + (seq_ref * (1-choice_m))\n",
    "    if debug: \n",
    "        print(\"seq_p\")\n",
    "        print(seq_p)\n",
    "        print()\n",
    "        print(\"seq_m\")\n",
    "        print(seq_m)\n",
    "        print()\n",
    "    val_p = model(seq_p)\n",
    "    val_m = model(seq_m)\n",
    "    if debug: \n",
    "        print(\"val_p\")\n",
    "        print(val_p)\n",
    "        print()\n",
    "        print(\"val_m\")\n",
    "        print(val_m)\n",
    "        print()\n",
    "        print(\"diff\")\n",
    "        print(val_p - val_m)\n",
    "        print()\n",
    "    result = np.sum(val_p-val_m)/steps\n",
    "    \n",
    "    return result"
   ]
  },
  {
   "cell_type": "code",
   "execution_count": 24,
   "metadata": {},
   "outputs": [
    {
     "name": "stdout",
     "output_type": "stream",
     "text": [
      "instance:  [N][#C][C][C][O]\n",
      "instance ints:  [111, 99, 118, 118, 113]\n",
      "instance len:  5\n",
      "\n",
      "40.039\n",
      "\n",
      "-15.586\n"
     ]
    }
   ],
   "source": [
    "instance = selfies_list[5]\n",
    "instance_ints = selfies2ints(instance)\n",
    "instance_len = len(instance_ints)\n",
    "\n",
    "feat = 1\n",
    "steps = 2000 # when using selifes_list/ints_list, make sure steps <= len(selfies_list)\n",
    "model = model_1gram\n",
    "\n",
    "print(\"instance: \",instance)\n",
    "print(\"instance ints: \",instance_ints)\n",
    "print(\"instance len: \",instance_len)\n",
    "print()\n",
    "\n",
    "uni_samples = get_samples(instance_ints, steps, uni_prob_vector, seed=0)\n",
    "freq_samples = get_samples(instance_ints, steps, freq_prob_vector, seed=0)\n",
    "\n",
    "print(shapley_sk(instance_ints, feat, uni_samples, model))\n",
    "print()\n",
    "print(shapley_sk(instance_ints, feat, freq_samples, model))"
   ]
  },
  {
   "cell_type": "code",
   "execution_count": 25,
   "metadata": {},
   "outputs": [
    {
     "name": "stdout",
     "output_type": "stream",
     "text": [
      "instance:  [N][#C][C][C][O]\n",
      "instance ints:  [111, 99, 118, 118, 113]\n",
      "instance len:  5\n",
      "\n",
      "feat_int:  99\n",
      "seq_ref\n",
      "[[ 52  96  60  75 108]\n",
      " [ 25  29  26  83  32]\n",
      " [ 23 107  38  98  85]\n",
      " [ 22  53  75  20  94]\n",
      " [  1  62  12  20  77]]\n",
      "\n",
      "seq_p\n",
      "[[ 52  99  60  75 108]\n",
      " [ 25  99  26  83  32]\n",
      " [ 23  99  38  98  85]\n",
      " [ 22  99  75  20  94]\n",
      " [  1  99  12  20  77]]\n",
      "\n",
      "seq_m\n",
      "[[ 52  96  60  75 108]\n",
      " [ 25  29  26  83  32]\n",
      " [ 23 107  38  98  85]\n",
      " [ 22  53  75  20  94]\n",
      " [  1  62  12  20  77]]\n",
      "\n",
      "val_p\n",
      "[394 265 343 310 209]\n",
      "\n",
      "val_m\n",
      "[391 195 351 264 172]\n",
      "\n",
      "diff\n",
      "[ 3 70 -8 46 37]\n",
      "\n",
      "29.6\n",
      "\n",
      "feat_int:  99\n",
      "seq_ref\n",
      "[[ 52  96  60  75 108]\n",
      " [ 25  29  26  83  32]\n",
      " [ 23 107  38  98  85]\n",
      " [ 22  53  75  20  94]\n",
      " [  1  62  12  20  77]]\n",
      "\n",
      "choice_p\n",
      "[[1 1 0 0 0]\n",
      " [0 1 1 0 0]\n",
      " [1 1 1 1 1]\n",
      " [1 1 1 1 0]\n",
      " [0 1 0 0 1]]\n",
      "\n",
      "choice_m\n",
      "[[1 0 0 0 0]\n",
      " [0 0 1 0 0]\n",
      " [1 0 1 1 1]\n",
      " [1 0 1 1 0]\n",
      " [0 0 0 0 1]]\n",
      "\n",
      "seq_p\n",
      "[[111  99  60  75 108]\n",
      " [ 25  99 118  83  32]\n",
      " [111  99 118 118 113]\n",
      " [111  99 118 118  94]\n",
      " [  1  99  12  20 113]]\n",
      "\n",
      "seq_m\n",
      "[[111  96  60  75 108]\n",
      " [ 25  29 118  83  32]\n",
      " [111 107 118 118 113]\n",
      " [111  53 118 118  94]\n",
      " [  1  62  12  20 113]]\n",
      "\n",
      "val_p\n",
      "[453 357 559 540 245]\n",
      "\n",
      "val_m\n",
      "[450 287 567 494 208]\n",
      "\n",
      "diff\n",
      "[ 3 70 -8 46 37]\n",
      "\n",
      "29.6\n"
     ]
    }
   ],
   "source": [
    "instance = selfies_list[5]\n",
    "instance_ints = selfies2ints(instance)\n",
    "instance_len = len(instance_ints)\n",
    "\n",
    "feat = 1\n",
    "steps = 5 # when using selifes_list/ints_list, make sure steps <= len(selfies_list)\n",
    "model = model_1gram\n",
    "\n",
    "print(\"instance: \",instance)\n",
    "print(\"instance ints: \",instance_ints)\n",
    "print(\"instance len: \",instance_len)\n",
    "print()\n",
    "\n",
    "uni_samples = get_samples(instance_ints, steps, uni_prob_vector, seed=0)\n",
    "freq_samples = get_samples(instance_ints, steps, freq_prob_vector, seed=0)\n",
    "\n",
    "print(shapley(instance_ints, feat, uni_samples, model,True))\n",
    "print()\n",
    "print(shapley_sk(instance_ints, feat, uni_samples, model,True))"
   ]
  },
  {
   "cell_type": "code",
   "execution_count": 59,
   "metadata": {},
   "outputs": [
    {
     "name": "stdout",
     "output_type": "stream",
     "text": [
      "instance:  [N][#C][C][C][O]\n",
      "instance ints:  [111, 99, 118, 118, 113]\n",
      "instance len:  5\n",
      "\n",
      "shapley values uni:  [52.6565, 40.039, 59.3235, 58.8475, 53.088]\n",
      "uni Expec:  295.0455\n",
      "uni Sum:  559.0\n",
      "\n",
      "shapley values freq:  [-3.4395, -15.586, 3.6455, 3.478, -1.694]\n",
      "freq Expec:  572.596\n",
      "freq Sum:  559.0\n",
      "\n",
      "f(s):  559\n"
     ]
    }
   ],
   "source": [
    "instance = selfies_list[5]\n",
    "instance_ints = selfies2ints(instance)\n",
    "instance_len = len(instance_ints)\n",
    "\n",
    "feat = 1\n",
    "steps = 2000 # when using selifes_list/ints_list, make sure steps <= len(selfies_list)\n",
    "model = model_1gram\n",
    "\n",
    "print(\"instance: \",instance)\n",
    "print(\"instance ints: \",instance_ints)\n",
    "print(\"instance len: \",instance_len)\n",
    "print()\n",
    "\n",
    "uni_samples = get_samples(instance_ints, steps, uni_prob_vector, seed=0)\n",
    "freq_samples = get_samples(instance_ints, steps, freq_prob_vector, seed=0)\n",
    "\n",
    "uni_pred = model_1gram(uni_samples)\n",
    "uni_expec_val = np.sum(uni_pred)/len(uni_pred)\n",
    "\n",
    "freq_pred = model_1gram(freq_samples)\n",
    "freq_expec_val = np.sum(freq_pred)/len(freq_pred)\n",
    "\n",
    "uni_shap_val = [shapley_sk(instance_ints, feat, uni_samples, model) for feat in range(instance_len)]\n",
    "freq_shap_val = [shapley_sk(instance_ints, feat, freq_samples, model) for feat in range(instance_len)]\n",
    "print(\"shapley values uni: \", uni_shap_val)\n",
    "print(\"uni Expec: \", uni_expec_val)\n",
    "print(\"uni Sum: \", np.sum(uni_shap_val) + uni_expec_val)\n",
    "print()\n",
    "print(\"shapley values freq: \", freq_shap_val)\n",
    "print(\"freq Expec: \", freq_expec_val)\n",
    "print(\"freq Sum: \", np.sum(freq_shap_val) + freq_expec_val)\n",
    "print()\n",
    "label =  model_1gram([instance_ints])[0]\n",
    "print(\"f(s): \", label)\n"
   ]
  },
  {
   "cell_type": "code",
   "execution_count": null,
   "metadata": {},
   "outputs": [],
   "source": []
  },
  {
   "cell_type": "code",
   "execution_count": null,
   "metadata": {},
   "outputs": [],
   "source": [
    "shapley values uni:  [52.6565, 40.039, 59.3235, 58.8475, 53.088]\n",
    "uni Expec:  295.0455\n",
    "uni Sum:  559.0\n",
    "\n",
    "shapley values freq:  [-3.4395, -15.586, 3.6455, 3.478, -1.694]\n",
    "freq Expec:  572.596\n",
    "freq Sum:  559.0\n",
    "\n",
    "f(s):  559\n",
    "\n"
   ]
  },
  {
   "cell_type": "code",
   "execution_count": null,
   "metadata": {},
   "outputs": [],
   "source": [
    "shapley values uni:  [52.6565, 40.039, 59.3235, 58.8475, 53.088]\n",
    "uni Expec:  295.0455\n",
    "uni Sum:  559.0\n",
    "\n",
    "shapley values freq:  [-3.4395, -15.586, 3.6455, 3.478, -1.694]\n",
    "freq Expec:  572.596\n",
    "freq Sum:  559.0\n",
    "\n",
    "f(s):  559"
   ]
  },
  {
   "cell_type": "code",
   "execution_count": null,
   "metadata": {},
   "outputs": [],
   "source": []
  },
  {
   "cell_type": "code",
   "execution_count": null,
   "metadata": {},
   "outputs": [],
   "source": []
  },
  {
   "cell_type": "code",
   "execution_count": null,
   "metadata": {},
   "outputs": [],
   "source": []
  },
  {
   "cell_type": "code",
   "execution_count": null,
   "metadata": {},
   "outputs": [],
   "source": []
  },
  {
   "cell_type": "code",
   "execution_count": null,
   "metadata": {},
   "outputs": [],
   "source": []
  }
 ],
 "metadata": {
  "kernelspec": {
   "display_name": "Python 3 (ipykernel)",
   "language": "python",
   "name": "python3"
  },
  "language_info": {
   "codemirror_mode": {
    "name": "ipython",
    "version": 3
   },
   "file_extension": ".py",
   "mimetype": "text/x-python",
   "name": "python",
   "nbconvert_exporter": "python",
   "pygments_lexer": "ipython3",
   "version": "3.8.3"
  }
 },
 "nbformat": 4,
 "nbformat_minor": 4
}
