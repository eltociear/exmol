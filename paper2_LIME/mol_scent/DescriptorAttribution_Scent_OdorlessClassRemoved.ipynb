{
 "cells": [
  {
   "cell_type": "code",
   "execution_count": null,
   "metadata": {},
   "outputs": [],
   "source": [
    "# Descriptor attribution using exmol"
   ]
  },
  {
   "cell_type": "code",
   "execution_count": null,
   "metadata": {},
   "outputs": [],
   "source": [
    "# Imports\n",
    "#!pip install matplotlib numpy pandas seaborn jax jaxlib dm-haiku tensorflow exmol\n",
    "import os\n",
    "\n",
    "os.environ[\"CUDA_VISIBLE_DEVICES\"] = \"1\"\n",
    "import exmol\n",
    "import tensorflow as tf\n",
    "import seaborn as sns\n",
    "import jax.numpy as jnp\n",
    "import jax\n",
    "import jax.experimental.optimizers as opt\n",
    "import pandas as pd\n",
    "import matplotlib as mpl\n",
    "import matplotlib.pyplot as plt\n",
    "import haiku as hk\n",
    "import numpy as np\n",
    "import rdkit, rdkit.Chem, rdkit.Chem.rdDepictor, rdkit.Chem.Draw\n",
    "import mordred, mordred.descriptors\n",
    "import sklearn.metrics\n",
    "from IPython.display import display, SVG\n",
    "from rdkit.Chem.Draw import MolToImage as mol2img, DrawMorganBit  # type: ignore\n",
    "from rdkit.Chem import rdchem, MACCSkeys, AllChem  # type: ignore\n",
    "\n",
    "import warnings\n",
    "\n",
    "warnings.filterwarnings(\"ignore\")\n",
    "sns.set_context(\"notebook\")\n",
    "sns.set_style(\n",
    "    \"dark\",\n",
    "    {\n",
    "        \"xtick.bottom\": True,\n",
    "        \"ytick.left\": True,\n",
    "        \"xtick.color\": \"#666666\",\n",
    "        \"ytick.color\": \"#666666\",\n",
    "        \"axes.edgecolor\": \"#666666\",\n",
    "        \"axes.linewidth\": 0.8,\n",
    "        \"figure.dpi\": 300,\n",
    "    },\n",
    ")\n",
    "color_cycle = [\"#1BBC9B\", \"#F06060\", \"#5C4B51\", \"#F3B562\", \"#6e5687\"]\n",
    "mpl.rcParams[\"axes.prop_cycle\"] = mpl.cycler(color=color_cycle)\n",
    "np.random.seed(0)\n",
    "tf.random.set_seed(0)"
   ]
  },
  {
   "cell_type": "markdown",
   "metadata": {},
   "source": [
    "### GNN Model Related Code\n",
    "\n",
    "GNN model using molecular scent dataset from Leffingwell Odor Datset (https://zenodo.org/record/4085098#.YTfYwy1h29Y)\n",
    "\n",
    "Code below modified from example code given in the \"Predicting DFT Energies with GNNs\" and \"Interpretability and Deep Learning\" sections of \"Deep Learning for Molecules and Materials\" textbook (https://whitead.github.io/dmol-book/applied/QM9.html)"
   ]
  },
  {
   "cell_type": "code",
   "execution_count": null,
   "metadata": {},
   "outputs": [],
   "source": [
    "# Parameters for GNN model\n",
    "node_feat_length = 256\n",
    "message_feat_length = 256\n",
    "graph_feat_length = 512\n",
    "weights_stddevGNN = 0.01\n",
    "\n",
    "\n",
    "# Code to load data & generate graphs + labels for all molecules in dataset\n",
    "# Load data --> file uploaded to jhub (locally stored)\n",
    "scentdata = pd.read_csv(\"leffingwell_data_shuffled.csv\")\n",
    "\n",
    "#Code to generate list of all scent labels (scentClasses)\n",
    "numMolecules = len(scentdata.odor_labels_filtered)\n",
    "numClasses = 112 #No odorless class\n",
    "scentClasses = []\n",
    "moleculeScentList = []\n",
    "for i in range(numMolecules):\n",
    "    scentString = scentdata.odor_labels_filtered[i]\n",
    "    temp = scentString.replace('[', '')\n",
    "    temp = temp.replace(']','')\n",
    "    temp = temp.replace('\\'','')\n",
    "    temp = temp.replace(' ','')\n",
    "    scentList = temp.split(',')\n",
    "    if('odorless' in scentList):\n",
    "        scentList.remove('odorless')\n",
    "    moleculeScentList.append(scentList)\n",
    "    for j in range(len(scentList)):\n",
    "        if (not(scentList[j] in scentClasses)):\n",
    "            scentClasses.append(scentList[j])\n",
    "\n",
    "# Check to make sure read in data properly & created scentClasses & moleculeScentList correctly\n",
    "print(f\"Is the number of scent classes 113?: {len(scentClasses)==112}\")\n",
    "print(f\"Is the number of molecules 3523?: {len(moleculeScentList)==3523}\")\n",
    "\n",
    "\n",
    "def gen_smiles2graph(sml):\n",
    "    \"\"\"Argument for the RD2NX function should be a valid SMILES sequence\n",
    "    returns: the graph\n",
    "    \"\"\"\n",
    "    m = rdkit.Chem.MolFromSmiles(sml)\n",
    "    m = rdkit.Chem.AddHs(m)\n",
    "    order_string = {\n",
    "        rdkit.Chem.rdchem.BondType.SINGLE: 1,\n",
    "        rdkit.Chem.rdchem.BondType.DOUBLE: 2,\n",
    "        rdkit.Chem.rdchem.BondType.TRIPLE: 3,\n",
    "        rdkit.Chem.rdchem.BondType.AROMATIC: 4,\n",
    "    }\n",
    "    N = len(list(m.GetAtoms()))\n",
    "    nodes = np.zeros((N, node_feat_length))\n",
    "    for i in m.GetAtoms():\n",
    "        nodes[i.GetIdx(), i.GetAtomicNum()] = 1\n",
    "        # Add in whether atom is in a ring or not for one-hot encoding\n",
    "        if i.IsInRing():\n",
    "            nodes[i.GetIdx(), -1] = 1\n",
    "\n",
    "    adj = np.zeros((N, N))\n",
    "    for j in m.GetBonds():\n",
    "        u = min(j.GetBeginAtomIdx(), j.GetEndAtomIdx())\n",
    "        v = max(j.GetBeginAtomIdx(), j.GetEndAtomIdx())\n",
    "        order = j.GetBondType()\n",
    "        if order in order_string:\n",
    "            order = order_string[order]\n",
    "        else:\n",
    "            raise Warning(\"Ignoring bond order\" + order)\n",
    "        adj[u, v] = 1\n",
    "        adj[v, u] = 1\n",
    "    adj += np.eye(N)\n",
    "    return nodes, adj\n",
    "\n",
    "\n",
    "# Function that creates label vector given list of strings describing scent of molecule as input\n",
    "# Each index in label vector corresponds to specific scent -> if output has a 0 at index i, then molecule does not have scent i\n",
    "# If label vector has 1 at index i, then molecule does have scent i\n",
    "\n",
    "\n",
    "def createLabelVector(scentsList):\n",
    "    # Find class index in label vector that each scent corresponds to & update label for that molecule to 1\n",
    "    labelVector = np.zeros(numClasses)\n",
    "    for j in range(len(scentsList)):\n",
    "        # Find class index\n",
    "        classIndex = scentClasses.index(scentsList[j])\n",
    "        # print(classIndex)\n",
    "        # print(scentsList[j])\n",
    "        # print(scentClasses[classIndex])\n",
    "        # Update label vector\n",
    "        labelVector[classIndex] = 1\n",
    "    return labelVector\n",
    "\n",
    "\n",
    "def generateGraphs():\n",
    "    for i in range(numMolecules):\n",
    "        graph = gen_smiles2graph(scentdata.smiles[i])\n",
    "        labels = createLabelVector(moleculeScentList[i])\n",
    "        yield graph, labels\n",
    "\n",
    "\n",
    "# Check that generateGraphs() works for 1st molecule\n",
    "# print(gen_smiles2graph(scentdata.SMILES[0]))\n",
    "# print(scentdata.SENTENCE[0].split(','))\n",
    "# print(np.nonzero(createLabelVector(scentdata.SENTENCE[0].split(','))))\n",
    "# print(scentClasses[89])\n",
    "data = tf.data.Dataset.from_generator(\n",
    "    generateGraphs,\n",
    "    output_types=((tf.float32, tf.float32), tf.float32),\n",
    "    output_shapes=(\n",
    "        (tf.TensorShape([None, node_feat_length]), tf.TensorShape([None, None])),\n",
    "        tf.TensorShape([None]),\n",
    "    ),\n",
    ")"
   ]
  },
  {
   "cell_type": "code",
   "execution_count": null,
   "metadata": {},
   "outputs": [],
   "source": [
    "class GNNLayer(\n",
    "    hk.Module\n",
    "):  # TODO: If increase number of layers, stack features & new_features and shrink via dense layer\n",
    "    def __init__(self, output_size, name=None):\n",
    "        super().__init__(name=name)\n",
    "        self.output_size = output_size\n",
    "\n",
    "    def __call__(self, inputs):\n",
    "        # split input into nodes, edges & features\n",
    "        nodes, edges, features = inputs\n",
    "        # Nodes is of shape (N, Nf) --> N = # atoms, Nf = node_feature_length\n",
    "        # Edges is of shape (N,N) (adjacency matrix)\n",
    "        # Features is of shape (Gf) --> Gf = graph_feature_length\n",
    "\n",
    "        graph_feature_len = features.shape[-1]  # graph_feature_len (Gf)\n",
    "        node_feature_len = nodes.shape[-1]  # node_feature_len (Nf)\n",
    "        message_feature_len = message_feat_length  # message_feature_length (Mf)\n",
    "\n",
    "        # Initialize weights\n",
    "        w_init = hk.initializers.RandomNormal(stddev=weights_stddevGNN)\n",
    "\n",
    "        # we is of shape (Nf,Mf)\n",
    "        we = hk.get_parameter(\n",
    "            \"we\", shape=[node_feature_len, message_feature_len], init=w_init\n",
    "        )\n",
    "\n",
    "        # b is of shape (Mf)\n",
    "        b = hk.get_parameter(\"b\", shape=[message_feature_len], init=w_init)\n",
    "\n",
    "        # wv is of shape (Mf,Nf)\n",
    "        wv = hk.get_parameter(\n",
    "            \"wv\", shape=[message_feature_len, node_feature_len], init=w_init\n",
    "        )\n",
    "\n",
    "        # wu is of shape (Nf,Gf)\n",
    "        wu = hk.get_parameter(\n",
    "            \"wu\", shape=[node_feature_len, graph_feature_len], init=w_init\n",
    "        )\n",
    "\n",
    "        # make nodes be N x N x Nf so we can just multiply directly (N = number of atoms)\n",
    "        # ek is now shaped N x N x Mf\n",
    "        ek = jax.nn.leaky_relu(\n",
    "            b\n",
    "            + jnp.repeat(nodes[jnp.newaxis, ...], nodes.shape[0], axis=0)\n",
    "            @ we\n",
    "            * edges[..., None]\n",
    "        )\n",
    "\n",
    "        # Uncomment lines below to update edges\n",
    "        # Update edges, use jnp.any to have new_edges be of shape N x N\n",
    "        # new_edges = jnp.any(ek, axis=-1)\n",
    "\n",
    "        # Normalize over edge features w/layer normalization\n",
    "        # new_edges = hk.LayerNorm(axis=[0,1], create_scale=False, create_offset=False, eps=1e-05)(new_edges)\n",
    "\n",
    "        # take sum over neighbors to get ebar shape = Nf x Mf\n",
    "        ebar = jnp.sum(ek, axis=1)\n",
    "\n",
    "        # dense layer for new nodes to get new_nodes shape = N x Nf\n",
    "        new_nodes = jax.nn.leaky_relu(ebar @ wv) + nodes  # Use leaky ReLU\n",
    "\n",
    "        # Normalize over node features w/layer normalization\n",
    "        new_nodes = hk.LayerNorm(\n",
    "            axis=[0, 1], create_scale=False, create_offset=False, eps=1e-05\n",
    "        )(new_nodes)\n",
    "\n",
    "        # sum over nodes to get shape features so global_node_features shape = Nf\n",
    "        global_node_features = jnp.sum(new_nodes, axis=0)\n",
    "\n",
    "        # dense layer for new features so new_features shape = Gf\n",
    "        new_features = (\n",
    "            jax.nn.leaky_relu(global_node_features @ wu) + features\n",
    "        )  # Use leaky ReLU for activation\n",
    "\n",
    "        return new_nodes, edges, new_features\n",
    "\n",
    "\n",
    "def model_fn(x):\n",
    "    nodes, edges = x\n",
    "    features = jnp.ones(graph_feat_length)\n",
    "    x = nodes, edges, features\n",
    "\n",
    "    # NOTE: If edited config.num_GNN_layers, need to edit code below (increase or decrease # times have x = GNNLayer(...))\n",
    "    # 4 GNN layers\n",
    "    x = GNNLayer(output_size=graph_feat_length)(x)\n",
    "    x = GNNLayer(output_size=graph_feat_length)(x)\n",
    "    x = GNNLayer(output_size=graph_feat_length)(x)\n",
    "    x = GNNLayer(output_size=graph_feat_length)(x)\n",
    "\n",
    "    # 2 dense layers\n",
    "    logits = hk.Linear(numClasses)(x[-1])\n",
    "    # logits = jax.nn.relu(logits) #ReLU activation between dense layer\n",
    "    logits = hk.Linear(numClasses)(logits)\n",
    "\n",
    "    return logits  # Model now returns logits\n",
    "\n",
    "\n",
    "model = hk.without_apply_rng(hk.transform(model_fn))\n",
    "\n",
    "# Initialize model\n",
    "rng = jax.random.PRNGKey(0)\n",
    "sampleData = data.take(1)\n",
    "for dataVal in sampleData:  # Look into later how to get larger set\n",
    "    (nodes_i, edges_i), yi = dataVal\n",
    "nodes_i = nodes_i.numpy()\n",
    "edges_i = edges_i.numpy()\n",
    "\n",
    "yi = yi.numpy()\n",
    "xi = (nodes_i, edges_i)\n",
    "\n",
    "params = model.init(rng, xi)"
   ]
  },
  {
   "cell_type": "code",
   "execution_count": null,
   "metadata": {},
   "outputs": [],
   "source": [
    "# Load optimal parameters for GNN model\n",
    "print(\"Edit fileName to change parameters being loaded\")\n",
    "fileName = \"optParams_dry-waterfall-17.npy\"  # Currently optimal parameters, edit when get better model\n",
    "paramsArr = jnp.load(fileName, allow_pickle=True)\n",
    "opt_params = {\n",
    "    \"gnn_layer\": {\n",
    "        \"b\": paramsArr[0],\n",
    "        \"we\": paramsArr[1],\n",
    "        \"wu\": paramsArr[2],\n",
    "        \"wv\": paramsArr[3],\n",
    "    },\n",
    "    \"gnn_layer_1\": {\n",
    "        \"b\": paramsArr[4],\n",
    "        \"we\": paramsArr[5],\n",
    "        \"wu\": paramsArr[6],\n",
    "        \"wv\": paramsArr[7],\n",
    "    },\n",
    "    \"gnn_layer_2\": {\n",
    "        \"b\": paramsArr[8],\n",
    "        \"we\": paramsArr[9],\n",
    "        \"wu\": paramsArr[10],\n",
    "        \"wv\": paramsArr[11],\n",
    "    },\n",
    "    \"gnn_layer_3\": {\n",
    "        \"b\": paramsArr[12],\n",
    "        \"we\": paramsArr[13],\n",
    "        \"wu\": paramsArr[14],\n",
    "        \"wv\": paramsArr[15],\n",
    "    },\n",
    "    \"linear\": {\"b\": paramsArr[16], \"w\": paramsArr[17]},\n",
    "    \"linear_1\": {\"b\": paramsArr[18], \"w\": paramsArr[19]},\n",
    "}"
   ]
  },
  {
   "cell_type": "code",
   "execution_count": null,
   "metadata": {},
   "outputs": [],
   "source": [
    "# Read in threshold values for each scent class (in test set) that maximizes F1 score\n",
    "thresholds = pd.read_csv(\"ThresholdsForMaxF1_OdorlessClassRemoved_dry-waterfall-17.csv\")"
   ]
  },
  {
   "cell_type": "code",
   "execution_count": null,
   "metadata": {},
   "outputs": [],
   "source": [
    "def my_model(smilesString, scentString):\n",
    "    molecularGraph = gen_smiles2graph(smilesString)\n",
    "    pos = scentClasses.index(scentString)\n",
    "    thresholdIndex_scent = thresholds.index[thresholds.Scent == scentString].tolist()\n",
    "    threshold = thresholds.Threshold[thresholdIndex_scent].tolist()[\n",
    "        0\n",
    "    ]  # Threshold is the one that maximizes the F1 score\n",
    "    pred = jax.nn.sigmoid(model.apply(opt_params, molecularGraph))[pos]\n",
    "    if pred > threshold:\n",
    "        pred = 1\n",
    "    else:\n",
    "        pred = 0\n",
    "    return pred"
   ]
  },
  {
   "cell_type": "markdown",
   "metadata": {},
   "source": [
    "### Descriptor Attribution with MACCS Keys & ECFP fingerprints"
   ]
  },
  {
   "cell_type": "code",
   "execution_count": null,
   "metadata": {},
   "outputs": [],
   "source": [
    "def lime_explain(\n",
    "    examples,\n",
    "    descriptor_type=\"MACCS\",\n",
    "    return_beta=True,\n",
    "    multiple_bases=None,\n",
    "):\n",
    "    \"\"\"From given :obj:`Examples<Example>`, find descriptor t-statistics (see\n",
    "    :doc: `index`)\n",
    "    :param examples: Output from :func: `sample_space`\n",
    "    :param descriptor_type: Desired descriptors, choose from 'Classic', 'ECFP' 'MACCS'\n",
    "    :return_beta: Whether or not the function should return regression coefficient values\n",
    "    :param multiple_bases: Consider multiple bases for explanation (default: infer from examples)\n",
    "    \"\"\"\n",
    "    if multiple_bases is None:\n",
    "        multiple_bases = exmol.exmol._check_multiple_bases(examples)\n",
    "\n",
    "    # add descriptors\n",
    "    examples = exmol.add_descriptors(\n",
    "        examples, descriptor_type, multiple_bases=multiple_bases\n",
    "    )\n",
    "    # weighted tanimoto similarities\n",
    "    w = np.array([1 / (1 + (1 / (e.similarity + 0.000001) - 1) ** 5) for e in examples])\n",
    "    # Only keep nonzero weights\n",
    "    non_zero = w > 10 ** (-6)\n",
    "    nonzero_w = w[non_zero]\n",
    "    # create a diagonal matrix of w\n",
    "    N = nonzero_w.shape[0]\n",
    "    diag_w = np.zeros((N, N))\n",
    "    np.fill_diagonal(diag_w, nonzero_w)\n",
    "    # get feature matrix\n",
    "    x_mat = np.array([list(e.descriptors.descriptors) for e in examples])[\n",
    "        non_zero\n",
    "    ].reshape(N, -1)\n",
    "    # remove zero variance columns\n",
    "    y = (\n",
    "        np.array([e.yhat for e in examples])\n",
    "        .reshape(len(examples))[non_zero]\n",
    "        .astype(float)\n",
    "    )\n",
    "    # remove bias\n",
    "    y -= np.mean(y)\n",
    "    # compute least squares fit\n",
    "    xtinv = np.linalg.pinv(\n",
    "        (x_mat.T @ diag_w @ x_mat)\n",
    "        + 0.001 * np.identity(len(examples[0].descriptors.descriptors))\n",
    "    )\n",
    "    beta = xtinv @ x_mat.T @ (y * nonzero_w)\n",
    "    # compute standard error in beta\n",
    "    yhat = x_mat @ beta\n",
    "    resids = yhat - y\n",
    "    SSR = np.sum(resids**2)\n",
    "    se2_epsilon = SSR / (len(examples) - len(beta))\n",
    "    se2_beta = se2_epsilon * xtinv\n",
    "    # now compute t-statistic for existence of coefficients\n",
    "    tstat = beta * np.sqrt(1 / np.diag(se2_beta))\n",
    "    # Set tstats for base, to be used later\n",
    "    examples[0].descriptors.tstats = tstat\n",
    "    # Return beta (feature weights) which are the fits if asked for\n",
    "    if return_beta:\n",
    "        return beta\n",
    "    else:\n",
    "        return None"
   ]
  },
  {
   "cell_type": "code",
   "execution_count": null,
   "metadata": {},
   "outputs": [],
   "source": [
    "# compute dot product with labels\n",
    "def cosine_similarity_base(df, bases, llists):\n",
    "    df[\"label_dot\"] = np.array(0.0)\n",
    "    for j, row in df.iterrows():\n",
    "        if j in bases:\n",
    "            base = j\n",
    "            df[\"label_dot\"][j] = 1\n",
    "        else:\n",
    "            # cosine similarity\n",
    "            if np.all(llists[j] == 0):\n",
    "                df[\"label_dot\"][j] = 0\n",
    "                continue\n",
    "            df[\"label_dot\"][j] = (\n",
    "                llists[base]\n",
    "                @ llists[j]\n",
    "                / np.linalg.norm(llists[base])\n",
    "                / np.linalg.norm(llists[j])\n",
    "            )\n",
    "    return df"
   ]
  },
  {
   "cell_type": "code",
   "execution_count": null,
   "metadata": {},
   "outputs": [],
   "source": [
    "def createExampleListfromDataFrame(data):\n",
    "    exampleList = []  # list[exmol.Example]()\n",
    "    for i in range(len(data.index)):\n",
    "        # using weighted tanimoto with dot product\n",
    "        exampleList.append(\n",
    "            exmol.Example(\n",
    "                data.smiles.tolist()[i],\n",
    "                data.selfies.tolist()[i],\n",
    "                data.label_similarity.tolist()[i],\n",
    "                data.yhat.tolist()[i],\n",
    "                data.index.tolist()[i],\n",
    "                data.position.tolist()[i],\n",
    "                data.is_origin.tolist()[i],\n",
    "                data.cluster.tolist()[i],\n",
    "                data.label.tolist()[i],\n",
    "            )\n",
    "        )\n",
    "    return exampleList"
   ]
  },
  {
   "cell_type": "code",
   "execution_count": null,
   "metadata": {},
   "outputs": [],
   "source": [
    "import scipy.stats as ss\n",
    "\n",
    "\n",
    "def get_text_explanations(examples):\n",
    "    \"\"\"Take an example and convert t-statistics into text explanations\"\"\"\n",
    "    from importlib_resources import files\n",
    "    import exmol.lime_data\n",
    "\n",
    "    print(examples[0].descriptors.descriptor_type.lower())\n",
    "    if examples[0].descriptors.descriptor_type.lower() != \"maccs\":\n",
    "        raise ValueError(\"Text explaantions only work for MACCS descriptors\")\n",
    "\n",
    "    # Take t-statistics, rank them\n",
    "    tstats = list(examples[0].descriptors.tstats)\n",
    "    d_importance = {\n",
    "        a: [b, i]\n",
    "        for i, a, b in zip(\n",
    "            np.arange(len(examples[0].descriptors.descriptors)),\n",
    "            examples[0].descriptors.descriptor_names,\n",
    "            tstats,\n",
    "        )\n",
    "        if not np.isnan(b)\n",
    "    }\n",
    "    d_importance = dict(\n",
    "        sorted(d_importance.items(), key=lambda item: abs(item[1][0]), reverse=True)\n",
    "    )\n",
    "\n",
    "    # get significance value - if >significance, then important else weakly important?\n",
    "    w = np.array([1 / (1 + (1 / (e.similarity + 0.000001) - 1) ** 5) for e in examples])\n",
    "    effective_n = np.sum(w) ** 2 / np.sum(w**2)\n",
    "    T = ss.t.ppf(0.975, df=effective_n)\n",
    "\n",
    "    # get a substructure match!! Is it in the molecule?\n",
    "    mk = files(exmol.lime_data).joinpath(\"MACCSkeys.txt\")\n",
    "    with open(str(mk), \"r\") as f:\n",
    "        desc_smarts = {\n",
    "            x.strip().split(\"\\t\")[-1]: x.strip().split(\"\\t\")[-2]\n",
    "            for x in f.readlines()[1:]\n",
    "        }\n",
    "    mol = MolFromSmiles(examples[0].smiles)\n",
    "\n",
    "    # text explanation\n",
    "    positive_exp = \"Positive features:\\n\"\n",
    "    negative_exp = \"Negative features:\\n\"\n",
    "    for i, (k, v) in enumerate(zip(d_importance.keys(), d_importance.values())):\n",
    "        if i == 5:\n",
    "            break\n",
    "        patt = MolFromSmarts(desc_smarts[k])\n",
    "        match = \"Yes. \" if len(mol.GetSubstructMatch(patt)) > 0 else \"No. \"\n",
    "        if abs(v[0]) > 4:\n",
    "            imp = \"Very Important\\n\"\n",
    "        elif abs(v[0]) >= T:\n",
    "            imp = \"Important\\n\"\n",
    "        else:\n",
    "            imp = \"Weakly important\\n\"\n",
    "        if v[0] > 0:\n",
    "            positive_exp += f\"{k} \" + match + imp\n",
    "        else:\n",
    "            negative_exp += f\"{k} \" + match + imp\n",
    "\n",
    "    return positive_exp + negative_exp"
   ]
  },
  {
   "cell_type": "code",
   "execution_count": null,
   "metadata": {},
   "outputs": [],
   "source": [
    "# This code doesn't work right now, don't worry about it\n",
    "import os\n",
    "import openai\n",
    "\n",
    "openai.organization = \"org-zVzDC0J6UhWoGf9pmQAfuLud\"\n",
    "openai.api_key = os.getenv(\"OPENAI_API_KEY\")\n",
    "\n",
    "response = openai.Completion.create(\n",
    "    model=\"text-davinci-001\",\n",
    "    prompt=\"Positive features:\\nIs there an atom bonded to two methyl groups? No. Important.\\nIs there a C=N double bond? No. Important.\\nNegative features:\\nIs there an atom bonded to a CH3CH2- group? Yes. Weakly important.\\nExplanation:\\nThe molecule is predicted to be positive mostly because there is not an atom bonded to two methyl groups. The missing C=N double bond is also important. There is a weak importance from the CH3CH2-group bond as well.\\n\\nPositive features:\\n- Is there a CH2 group involved in a double bond? No. Important.\\n- Is there a heteroatom in a 6M ring? No. Important.\\nNegative features:\\n- Is there more  than one 6M ring? Yes. Very Important.\\n- Is there an alkene bond? Yes. Weakly important.\\nExplanation:\\nThis molecule is predicted to be weakly soluble because of the alkene bond. The other negative features, such as the presence of more than one 6M ring, are very important and make the molecule less soluble.\",\n",
    "    temperature=0.4,\n",
    "    max_tokens=64,\n",
    "    top_p=1,\n",
    "    frequency_penalty=0,\n",
    "    presence_penalty=0,\n",
    ")"
   ]
  },
  {
   "cell_type": "markdown",
   "metadata": {},
   "source": [
    "#### Load files with preciously sampled space and labeled with scents"
   ]
  },
  {
   "cell_type": "code",
   "execution_count": null,
   "metadata": {},
   "outputs": [],
   "source": [
    "vanilla_df = pd.read_csv(\"vanilla_samples_with_labels.csv\", usecols=np.arange(2, 12))\n",
    "# vanilla_df['lsimilarity'] = np.array(0.)\n",
    "vanilla_labels = pd.read_csv(\n",
    "    \"vanilla_samples_with_labels.csv\", usecols=np.append([2], np.arange(12, 125))\n",
    ")\n",
    "llists = vanilla_labels.to_numpy()[:, 1:]"
   ]
  },
  {
   "cell_type": "code",
   "execution_count": null,
   "metadata": {},
   "outputs": [],
   "source": [
    "bases = list(vanilla_df[vanilla_df[\"is_origin\"] == True].index)"
   ]
  },
  {
   "cell_type": "code",
   "execution_count": null,
   "metadata": {},
   "outputs": [],
   "source": [
    "from rdkit.Chem import MolFromSmiles\n",
    "from rdkit import DataStructs"
   ]
  },
  {
   "cell_type": "code",
   "execution_count": null,
   "metadata": {},
   "outputs": [],
   "source": [
    "vanilla_df = cosine_similarity_base(vanilla_df, bases, llists)"
   ]
  },
  {
   "cell_type": "code",
   "execution_count": null,
   "metadata": {},
   "outputs": [],
   "source": [
    "vanilla_df[\"label_similarity\"] = vanilla_df[\"similarity\"] * vanilla_df[\"label_dot\"]"
   ]
  },
  {
   "cell_type": "code",
   "execution_count": null,
   "metadata": {},
   "outputs": [],
   "source": [
    "plt.plot(vanilla_df[\"similarity\"], vanilla_df[\"label_similarity\"], \".\", alpha=0.7)\n",
    "plt.plot(vanilla_df[\"similarity\"], vanilla_df[\"similarity\"])\n",
    "plt.show()"
   ]
  },
  {
   "cell_type": "code",
   "execution_count": null,
   "metadata": {},
   "outputs": [],
   "source": [
    "vanilla_df.to_csv(\"vanilla_samples_label_weighted_similarity.csv\")"
   ]
  },
  {
   "cell_type": "code",
   "execution_count": null,
   "metadata": {},
   "outputs": [],
   "source": [
    "vanilla_samples = createExampleListfromDataFrame(vanilla_df)"
   ]
  },
  {
   "cell_type": "markdown",
   "metadata": {},
   "source": [
    "### Explaining vanilla samples"
   ]
  },
  {
   "cell_type": "code",
   "execution_count": null,
   "metadata": {},
   "outputs": [],
   "source": [
    "lime_explain(vanilla_samples, descriptor_type=\"ECFP\")"
   ]
  },
  {
   "cell_type": "code",
   "execution_count": null,
   "metadata": {},
   "outputs": [],
   "source": [
    "svg = exmol.plot_descriptors(\n",
    "    vanilla_samples, output_file=\"ecfp_vanilla_scent.svg\", return_svg=True\n",
    ")\n",
    "from IPython.display import SVG, display\n",
    "\n",
    "display(SVG(svg))"
   ]
  },
  {
   "cell_type": "code",
   "execution_count": null,
   "metadata": {},
   "outputs": [],
   "source": [
    "lime_explain(vanilla_samples, descriptor_type=\"MACCS\")\n",
    "exmol.plot_descriptors(vanilla_samples, output_file=\"vanilla_maccs.svg\")"
   ]
  },
  {
   "cell_type": "code",
   "execution_count": null,
   "metadata": {},
   "outputs": [],
   "source": [
    "from rdkit.Chem import MolFromSmarts\n",
    "\n",
    "prompt = (\n",
    "    get_text_explanations(vanilla_samples)\n",
    "    + \"Explanation: Molecules have vanilla smell because\"\n",
    ")"
   ]
  },
  {
   "cell_type": "markdown",
   "metadata": {},
   "source": [
    "### Load grape samples"
   ]
  },
  {
   "cell_type": "code",
   "execution_count": null,
   "metadata": {},
   "outputs": [],
   "source": [
    "grape_noring_df = pd.read_csv(\"grape_noring_with_labels.csv\", usecols=np.arange(2, 12))\n",
    "grape_ring_df = pd.read_csv(\"grape_rings_with_labels.csv\", usecols=np.arange(2, 12))"
   ]
  },
  {
   "cell_type": "markdown",
   "metadata": {},
   "source": [
    "#### Ring analysis"
   ]
  },
  {
   "cell_type": "code",
   "execution_count": null,
   "metadata": {
    "scrolled": true
   },
   "outputs": [],
   "source": [
    "# grape_ring_df['lsimilarity'] = np.array(0.)\n",
    "grape_ring_labels = pd.read_csv(\n",
    "    \"grape_rings_with_labels.csv\", usecols=np.append([2], np.arange(12, 125))\n",
    ")\n",
    "gr_llists = grape_ring_labels.to_numpy()[:, 1:]\n",
    "gr_bases = list(grape_ring_df[grape_ring_df[\"is_origin\"] == True].index)"
   ]
  },
  {
   "cell_type": "code",
   "execution_count": null,
   "metadata": {},
   "outputs": [],
   "source": [
    "grape_ring_df = cosine_similarity_base(grape_ring_df, gr_bases, gr_llists)\n",
    "grape_ring_df[\"label_similarity\"] = (\n",
    "    grape_ring_df[\"similarity\"] * grape_ring_df[\"label_dot\"]\n",
    ")"
   ]
  },
  {
   "cell_type": "code",
   "execution_count": null,
   "metadata": {},
   "outputs": [],
   "source": [
    "plt.plot(grape_ring_df[\"similarity\"], grape_ring_df[\"label_similarity\"], \".\", alpha=0.7)\n",
    "plt.plot(grape_ring_df[\"similarity\"], grape_ring_df[\"similarity\"])\n",
    "plt.xlabel(\"Tanimoto similarity\")\n",
    "plt.ylabel(\"Tanimoto similarity with labels\")\n",
    "plt.show()"
   ]
  },
  {
   "cell_type": "code",
   "execution_count": null,
   "metadata": {},
   "outputs": [],
   "source": [
    "grape_ring_samples = createExampleListfromDataFrame(grape_ring_df)"
   ]
  },
  {
   "cell_type": "code",
   "execution_count": null,
   "metadata": {
    "scrolled": true
   },
   "outputs": [],
   "source": [
    "lime_explain(grape_ring_samples, descriptor_type=\"ecfp\")\n",
    "svg = exmol.plot_descriptors(\n",
    "    grape_ring_samples, output_file=\"grape_ring_ecfp.svg\", return_svg=True\n",
    ")\n",
    "display(SVG(svg))"
   ]
  },
  {
   "cell_type": "code",
   "execution_count": null,
   "metadata": {},
   "outputs": [],
   "source": [
    "lime_explain(grape_ring_samples)\n",
    "exmol.plot_descriptors(grape_ring_samples, output_file=\"grape_ring_maccs.svg\")"
   ]
  },
  {
   "cell_type": "markdown",
   "metadata": {},
   "source": [
    "#### Chain analysis"
   ]
  },
  {
   "cell_type": "code",
   "execution_count": null,
   "metadata": {},
   "outputs": [],
   "source": [
    "grape_noring_labels = pd.read_csv(\n",
    "    \"grape_noring_with_labels.csv\", usecols=np.append([2], np.arange(12, 125))\n",
    ")\n",
    "gn_llists = grape_noring_labels.to_numpy()[:, 1:]\n",
    "gn_bases = list(grape_noring_df[grape_noring_df[\"is_origin\"] == True].index)"
   ]
  },
  {
   "cell_type": "code",
   "execution_count": null,
   "metadata": {},
   "outputs": [],
   "source": [
    "grape_noring_df = cosine_similarity_base(grape_noring_df, gn_bases, gn_llists)\n",
    "grape_noring_df[\"label_similarity\"] = (\n",
    "    grape_noring_df[\"similarity\"] * grape_noring_df[\"label_dot\"]\n",
    ")"
   ]
  },
  {
   "cell_type": "code",
   "execution_count": null,
   "metadata": {},
   "outputs": [],
   "source": [
    "plt.plot(\n",
    "    grape_noring_df[\"similarity\"], grape_noring_df[\"label_similarity\"], \".\", alpha=0.7\n",
    ")\n",
    "plt.plot(grape_noring_df[\"similarity\"], grape_noring_df[\"similarity\"])\n",
    "plt.xlabel(\"Tanimoto similarity\")\n",
    "plt.ylabel(\"Tanimoto similarity with labels\")\n",
    "plt.show()"
   ]
  },
  {
   "cell_type": "code",
   "execution_count": null,
   "metadata": {},
   "outputs": [],
   "source": [
    "grape_noring_samples = createExampleListfromDataFrame(grape_noring_df)\n",
    "# grape_ring_samples = createExampleListfromDataFrame(grape_ring_samples)"
   ]
  },
  {
   "cell_type": "code",
   "execution_count": null,
   "metadata": {},
   "outputs": [],
   "source": [
    "lime_explain(grape_noring_samples)\n",
    "exmol.plot_descriptors(grape_noring_samples, output_file=\"grape_noring_maccs.svg\")"
   ]
  },
  {
   "cell_type": "code",
   "execution_count": null,
   "metadata": {},
   "outputs": [],
   "source": [
    "lime_explain(grape_noring_samples, descriptor_type=\"ecfp\")\n",
    "svg = exmol.plot_descriptors(\n",
    "    grape_noring_samples, output_file=\"grape_noring_ecfp.svg\", return_svg=True\n",
    ")\n",
    "display(SVG(svg))"
   ]
  },
  {
   "cell_type": "markdown",
   "metadata": {},
   "source": [
    "### Combining all grape compounds"
   ]
  },
  {
   "cell_type": "code",
   "execution_count": null,
   "metadata": {},
   "outputs": [],
   "source": [
    "grape_samples = grape_noring_samples + grape_ring_samples"
   ]
  },
  {
   "cell_type": "code",
   "execution_count": null,
   "metadata": {
    "scrolled": false
   },
   "outputs": [],
   "source": [
    "lime_explain(grape_samples, descriptor_type=\"ecfp\")\n",
    "svg = exmol.plot_descriptors(\n",
    "    grape_samples, output_file=\"grape_all_ecfp.svg\", return_svg=True\n",
    ")\n",
    "display(SVG(svg))"
   ]
  },
  {
   "cell_type": "code",
   "execution_count": null,
   "metadata": {},
   "outputs": [],
   "source": [
    "lime_explain(grape_samples)\n",
    "exmol.plot_descriptors(grape_samples, output_file=\"grape_all_maccs.svg\")"
   ]
  },
  {
   "cell_type": "code",
   "execution_count": null,
   "metadata": {},
   "outputs": [],
   "source": []
  },
  {
   "cell_type": "code",
   "execution_count": null,
   "metadata": {},
   "outputs": [],
   "source": []
  },
  {
   "cell_type": "code",
   "execution_count": null,
   "metadata": {},
   "outputs": [],
   "source": []
  },
  {
   "cell_type": "markdown",
   "metadata": {},
   "source": [
    "#### Old misc cells"
   ]
  },
  {
   "cell_type": "code",
   "execution_count": null,
   "metadata": {},
   "outputs": [],
   "source": [
    "base_list = list(vanilla_samples[vanilla_samples[\"is_origin\"] == True][\"smiles\"])\n",
    "base_yhat = list(vanilla_samples[vanilla_samples[\"is_origin\"] == True][\"yhat\"])"
   ]
  },
  {
   "cell_type": "code",
   "execution_count": null,
   "metadata": {},
   "outputs": [],
   "source": [
    "positive_vanilla = []\n",
    "count = 0\n",
    "for i in range(numMolecules):  # sample space created using positive examples\n",
    "    molecule = scentdata.smiles[i]\n",
    "    if \"vanilla\" in moleculeScentList[i]:\n",
    "        positive_vanilla.append(molecule)"
   ]
  },
  {
   "cell_type": "code",
   "execution_count": null,
   "metadata": {},
   "outputs": [],
   "source": [
    "scent = \"vanilla\"\n",
    "space_vanilla = []\n",
    "count = 0\n",
    "for i in range(numMolecules):  # sample space created using positive examples\n",
    "    molecule = scentdata.smiles[i]\n",
    "    if moleculeScentList[i].count(scent) == 1:\n",
    "        print(molecule, moleculeScentList[i])\n",
    "        print(moleculeScentList[i].count(scent))\n",
    "        count += 1\n",
    "#         samples = exmol.sample_space(molecule, lambda smi,\n",
    "#                                     sel: my_model(smi,scent),\n",
    "#                                     batched=False, preset='medium',\n",
    "#                                     num_samples=200)\n",
    "#         space_vanilla.extend(samples)\n",
    "count"
   ]
  },
  {
   "cell_type": "code",
   "execution_count": null,
   "metadata": {},
   "outputs": [],
   "source": []
  },
  {
   "cell_type": "code",
   "execution_count": null,
   "metadata": {},
   "outputs": [],
   "source": [
    "# Descriptor attribution with only 1 base molecule (only use sample space generated around 1 base molecule)\n",
    "base_molecule = \"COc1cc(C=O)ccc1O\"  # Vanillin smiles string (https://www.sigmaaldrich.com/US/en/product/SIGMA/V2375)\n",
    "\n",
    "# Generate space\n",
    "space = list[exmol.Example]()\n",
    "scent = \"vanilla\"\n",
    "space = exmol.sample_space(\n",
    "    base_molecule,\n",
    "    lambda smi, sel: my_model(smi, scent),\n",
    "    batched=False,\n",
    "    preset=\"medium\",\n",
    "    num_samples=200,\n",
    ")\n",
    "\n",
    "# Display descriptor attribution results\n",
    "desc_type = [\"Classic\", \"MACCS\"]\n",
    "\n",
    "for d in desc_type:\n",
    "    beta = exmol.lime_explain(space, descriptor_type=d)\n",
    "    svg = exmol.plot_descriptors(\n",
    "        space, descriptor_type=d, output_file=f\"{d}_vanillinBaseMolecule.svg\"\n",
    "    )\n",
    "    display(SVG(svg))"
   ]
  },
  {
   "cell_type": "code",
   "execution_count": null,
   "metadata": {},
   "outputs": [],
   "source": [
    "# All base molecules (base molecules may or may not have a ring)\n",
    "ringMoleculesInSampleSpace = 0\n",
    "for e in space_total:\n",
    "    scentPred_all.append(e.yhat)\n",
    "    mol = rdkit.Chem.MolFromSmiles(e.smiles)\n",
    "    if rdkit.Chem.rdMolDescriptors.CalcNumRings(mol) >= 1:\n",
    "        ringMoleculesInSampleSpace += (\n",
    "            1  # https://www.rdkit.org/docs/source/rdkit.Chem.rdMolDescriptors.html)\n",
    "        )\n",
    "\n",
    "\n",
    "print(\n",
    "    f\"Number of molecules in sample space with a ring: {ringMoleculesInSampleSpace} (all base molecules used to generate space (included molecules with and without rings))\"\n",
    ")\n",
    "print(\n",
    "    f\"Sample space size: {len(scentPred_all)}, number of positive examples (molecule has desired scent): {scentPred_all.count(1)}\"\n",
    ")\n",
    "\n",
    "rdkit.Chem.Draw.MolsToGridImage(\n",
    "    [rdkit.Chem.MolFromSmiles(x.smiles) for x in space_total],\n",
    "    subImgSize=(300, 300),\n",
    "    molsPerRow=5,\n",
    "    legends=[f\"predicted scent = {i}\" for i in scentPred_all],\n",
    ")"
   ]
  },
  {
   "cell_type": "code",
   "execution_count": null,
   "metadata": {},
   "outputs": [],
   "source": [
    "# When only have base molecules without rings\n",
    "ringMoleculesInSampleSpace = 0\n",
    "for e in space_total_noRing:\n",
    "    scentPred_noRingBaseMolecules.append(e.yhat)\n",
    "    mol = rdkit.Chem.MolFromSmiles(e.smiles)\n",
    "    if rdkit.Chem.rdMolDescriptors.CalcNumRings(mol) >= 1:\n",
    "        ringMoleculesInSampleSpace += (\n",
    "            1  # https://www.rdkit.org/docs/source/rdkit.Chem.rdMolDescriptors.html)\n",
    "        )\n",
    "\n",
    "print(\n",
    "    f\"Number of molecules in sample space with a ring: {ringMoleculesInSampleSpace} (all base molecules used to generate space had NO rings)\"\n",
    ")\n",
    "print(\n",
    "    f\"Sample space size: {len(scentPred_noRingBaseMolecules)}, number of positive examples (molecule has desired scent): {scentPred_noRingBaseMolecules.count(1)}\"\n",
    ")\n",
    "\n",
    "rdkit.Chem.Draw.MolsToGridImage(\n",
    "    [rdkit.Chem.MolFromSmiles(x.smiles) for x in space_total_noRing],\n",
    "    subImgSize=(300, 300),\n",
    "    molsPerRow=5,\n",
    "    legends=[f\"predicted scent = {i}\" for i in scentPred_noRingBaseMolecules],\n",
    ")"
   ]
  },
  {
   "cell_type": "code",
   "execution_count": null,
   "metadata": {},
   "outputs": [],
   "source": [
    "# Plot sample spaces with scent prediction & count how many molecules in space have a sample space have a ring\n",
    "scentPred_ringBaseMolecules = []\n",
    "scentPred_noRingBaseMolecules = []\n",
    "scentPred_all = []\n",
    "\n",
    "ringMoleculesInSampleSpace = 0\n",
    "\n",
    "# When only have base molecules with rings\n",
    "for e in space_total_ring:\n",
    "    scentPred_ringBaseMolecules.append(e.yhat)\n",
    "    mol = rdkit.Chem.MolFromSmiles(e.smiles)\n",
    "    if rdkit.Chem.rdMolDescriptors.CalcNumRings(mol) >= 1:\n",
    "        ringMoleculesInSampleSpace += (\n",
    "            1  # https://www.rdkit.org/docs/source/rdkit.Chem.rdMolDescriptors.html)\n",
    "        )\n",
    "\n",
    "print(\n",
    "    f\"Number of molecules in sample space with a ring: {ringMoleculesInSampleSpace} (all base molecules used to generate space had rings)\"\n",
    ")\n",
    "print(\n",
    "    f\"Sample space size: {len(scentPred_ringBaseMolecules)}, number of positive examples (molecule has desired scent): {scentPred_ringBaseMolecules.count(1)}\"\n",
    ")\n",
    "rdkit.Chem.Draw.MolsToGridImage(\n",
    "    [rdkit.Chem.MolFromSmiles(x.smiles) for x in space_total_ring],\n",
    "    subImgSize=(300, 300),\n",
    "    molsPerRow=5,\n",
    "    legends=[f\"predicted scent = {i}\" for i in scentPred_ringBaseMolecules],\n",
    ")"
   ]
  },
  {
   "cell_type": "code",
   "execution_count": null,
   "metadata": {
    "scrolled": false
   },
   "outputs": [],
   "source": [
    "# Display descriptor attribution results\n",
    "desc_type = [\"MACCS\", \"ECFP\"]\n",
    "\n",
    "for d in desc_type:\n",
    "    beta_ring = exmol.lime_explain(\n",
    "        space_total_ring, descriptor_type=d, multiple_bases=True\n",
    "    )\n",
    "    svg_ring = exmol.plot_descriptors(\n",
    "        space_total_ring,\n",
    "        descriptor_type=d,\n",
    "        output_file=f\"{d}_grape_ringBaseMolecules.svg\",\n",
    "        title=f\"Grape {d} Descriptors - Ring Base Molecules\",\n",
    "        multiple_bases=True,\n",
    "    )\n",
    "    display(SVG(svg_ring))\n",
    "\n",
    "    beta_noRing = exmol.lime_explain(\n",
    "        space_total_noRing, descriptor_type=d, multiple_bases=True\n",
    "    )\n",
    "    svg_noRing = exmol.plot_descriptors(\n",
    "        space_total_noRing,\n",
    "        descriptor_type=d,\n",
    "        output_file=f\"{d}_grape_noRingBaseMolecules.svg\",\n",
    "        title=f\"Grape {d} Descriptors - No Ring Base Molecules\",\n",
    "        multiple_bases=True,\n",
    "    )\n",
    "    display(SVG(svg_noRing))\n",
    "\n",
    "    beta_all = exmol.lime_explain(space_total, descriptor_type=d, multiple_bases=True)\n",
    "    svg_all = exmol.plot_descriptors(\n",
    "        space_total,\n",
    "        descriptor_type=d,\n",
    "        output_file=f\"{d}_grape_allBaseMolecules.svg\",\n",
    "        title=f\"Grape {d} Descriptors - All\",\n",
    "        multiple_bases=True,\n",
    "    )\n",
    "    display(SVG(svg_all))"
   ]
  },
  {
   "cell_type": "code",
   "execution_count": null,
   "metadata": {},
   "outputs": [],
   "source": [
    "# For each positive example, generate sample space (using STONED) around that example (use that example as the base molecule)\n",
    "##then combine all of the sample spaces together & do descriptor attribution on it\n",
    "space_total_ring = []\n",
    "space_total_noRing = []\n",
    "space_total = []\n",
    "\n",
    "\n",
    "for i in range(numMolecules):  # sample space created using positive examples\n",
    "    molecule = scentdata.smiles[i]\n",
    "    if moleculeScentList[i].count(scent) == 1:\n",
    "        sampleSpace = exmol.sample_space(\n",
    "            molecule,\n",
    "            lambda smi, sel: my_model(smi, scent),\n",
    "            batched=False,\n",
    "            preset=\"medium\",\n",
    "            num_samples=200,\n",
    "        )\n",
    "        space_total.extend(sampleSpace)\n",
    "        if molecule in molsWithRings:\n",
    "            space_total_ring.extend(sampleSpace)\n",
    "        else:\n",
    "            space_total_noRing.extend(sampleSpace)"
   ]
  },
  {
   "cell_type": "code",
   "execution_count": null,
   "metadata": {},
   "outputs": [],
   "source": [
    "# Visualize all molecules with the selected scent in the Leffingwell Dataset\n",
    "scent = \"grape\"\n",
    "\n",
    "molsWithScent = []\n",
    "for i in range(numMolecules):\n",
    "    molecule = scentdata.smiles[i]\n",
    "    if moleculeScentList[i].count(scent) == 1:\n",
    "        molsWithScent.append(rdkit.Chem.MolFromSmiles(molecule))\n",
    "\n",
    "\n",
    "rdkit.Chem.Draw.MolsToGridImage(molsWithScent, molsPerRow=4, subImgSize=(300, 300))"
   ]
  },
  {
   "cell_type": "code",
   "execution_count": null,
   "metadata": {},
   "outputs": [],
   "source": [
    "# Split the molecules into those with rings and those without\n",
    "molsWithRings = []\n",
    "molsNoRings = []\n",
    "moleculeScentList_rings = []\n",
    "moleculeScentList_noRings = []\n",
    "for i in range(numMolecules):\n",
    "    smilesString = scentdata.smiles[i]\n",
    "    mol = rdkit.Chem.MolFromSmiles(smilesString)\n",
    "    numRings = rdkit.Chem.rdMolDescriptors.CalcNumRings(\n",
    "        mol\n",
    "    )  # https://www.rdkit.org/docs/source/rdkit.Chem.rdMolDescriptors.html\n",
    "    if numRings >= 1:\n",
    "        molsWithRings.append(smilesString)\n",
    "        moleculeScentList_rings.append(moleculeScentList[i])\n",
    "\n",
    "    else:\n",
    "        molsNoRings.append(smilesString)\n",
    "        moleculeScentList_noRings.append(moleculeScentList[i])\n",
    "\n",
    "print(f\"Number of molecules in scent dataset that contain a ring: {len(molsWithRings)}\")\n",
    "print(\n",
    "    f\"Number of molecules in scent dataset that do not have a ring: {len(molsNoRings)}\"\n",
    ")"
   ]
  },
  {
   "cell_type": "code",
   "execution_count": null,
   "metadata": {},
   "outputs": [],
   "source": []
  }
 ],
 "metadata": {
  "kernelspec": {
   "display_name": "Python (my-rdkit-env)",
   "language": "python",
   "name": "my-rdkit-env"
  },
  "language_info": {
   "codemirror_mode": {
    "name": "ipython",
    "version": 3
   },
   "file_extension": ".py",
   "mimetype": "text/x-python",
   "name": "python",
   "nbconvert_exporter": "python",
   "pygments_lexer": "ipython3",
   "version": "3.9.4"
  }
 },
 "nbformat": 4,
 "nbformat_minor": 4
}
